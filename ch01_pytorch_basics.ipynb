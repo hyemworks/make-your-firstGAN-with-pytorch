{
  "nbformat": 4,
  "nbformat_minor": 0,
  "metadata": {
    "colab": {
      "name": "ch01-pytorch-basics",
      "provenance": [],
      "collapsed_sections": [],
      "toc_visible": true,
      "authorship_tag": "ABX9TyN2ubj37MtfcChqx2rDDHCx",
      "include_colab_link": true
    },
    "kernelspec": {
      "name": "python3",
      "display_name": "Python 3"
    },
    "language_info": {
      "name": "python"
    }
  },
  "cells": [
    {
      "cell_type": "markdown",
      "metadata": {
        "id": "view-in-github",
        "colab_type": "text"
      },
      "source": [
        "<a href=\"https://colab.research.google.com/github/hyemworks/make-your-firstGAN-with-pytorch/blob/main/ch01_pytorch_basics.ipynb\" target=\"_parent\"><img src=\"https://colab.research.google.com/assets/colab-badge.svg\" alt=\"Open In Colab\"/></a>"
      ]
    },
    {
      "cell_type": "markdown",
      "metadata": {
        "id": "ahVG-aQP8wrR"
      },
      "source": [
        "# <b>Chapter 01 &nbsp;&nbsp;&nbsp;&nbsp; Pytorch Basics</b>\n",
        "\n"
      ]
    },
    {
      "cell_type": "markdown",
      "metadata": {
        "id": "Jbos49xV9FdE"
      },
      "source": [
        "## Google Colab"
      ]
    },
    {
      "cell_type": "markdown",
      "metadata": {
        "id": "m3ZMafxa9P9c"
      },
      "source": [
        "* 구글의 인프라에서 파이썬 코드가 돌아가도록 지원\n",
        "* 브라우저에서 클라우드를 통해 모든 작업이 가능"
      ]
    },
    {
      "cell_type": "markdown",
      "metadata": {
        "id": "g2sCko2o9dOI"
      },
      "source": [
        "## Pytorch Tensor"
      ]
    },
    {
      "cell_type": "markdown",
      "metadata": {
        "id": "d1RuCaje8v6h"
      },
      "source": [
        "✅ **파이토치**<br>\n",
        "  : 파이썬 기반의 머신러닝 프레임 워크<br>\n",
        "  : 넘파이와 마찬가지로, 숫자로 이루어진 행렬을 다룰 수 있게 도와주며, 다양하고 편리한 도구와 함수를 제공<br>\n",
        "  <br>\n",
        "  : 기본 데이터 형태 : <b>파이토치 텐서</b><br>\n",
        "  <br>\n",
        "  <b>&nbsp;&nbsp;&nbsp;&nbsp;&nbsp;&nbsp;🦋 텐서$^{tensor}$</b><br>\n",
        "  &nbsp;&nbsp;&nbsp;&nbsp;&nbsp;&nbsp;&nbsp;&nbsp;&nbsp;&nbsp;: 다차원 행렬, 2차원 행렬, 1차원 리스트, 단일 값 모두 가능<br>\n",
        "  &nbsp;&nbsp;&nbsp;&nbsp;&nbsp;&nbsp;&nbsp;&nbsp;&nbsp;&nbsp;: 파이토치만의 새로운 변수 저장 방법\n",
        "<br>\n",
        "<br>\n",
        "  : 파이토치의 주요 기능\n",
        "  <br>\n",
        "  &nbsp;&nbsp; - 그래디언트를 구하기 위한 계산을 자동으로 수행해줌.   "
      ]
    },
    {
      "cell_type": "code",
      "source": [
        "# normal python variables\n",
        "\n",
        "x=3.5\n",
        "y=x*x+2\n",
        "\n",
        "print(x, y)"
      ],
      "metadata": {
        "colab": {
          "base_uri": "https://localhost:8080/"
        },
        "id": "LRuWytpITlWO",
        "outputId": "f045a6ed-47aa-49da-c7ae-1e514409feda"
      },
      "execution_count": null,
      "outputs": [
        {
          "output_type": "stream",
          "name": "stdout",
          "text": [
            "3.5 14.25\n"
          ]
        }
      ]
    },
    {
      "cell_type": "code",
      "metadata": {
        "colab": {
          "base_uri": "https://localhost:8080/"
        },
        "id": "eMrRT5CX-BOa",
        "outputId": "ecd4b6e6-d9b7-4539-816c-c29e6bfc107b"
      },
      "source": [
        "import torch\n",
        "\n",
        "# simple pytorch tensor\n",
        "\n",
        "x = torch.tensor(3.5)\n",
        "print(x)\n"
      ],
      "execution_count": null,
      "outputs": [
        {
          "output_type": "stream",
          "name": "stdout",
          "text": [
            "tensor(3.5000)\n"
          ]
        }
      ]
    },
    {
      "cell_type": "code",
      "metadata": {
        "colab": {
          "base_uri": "https://localhost:8080/"
        },
        "id": "OZEjTneg-C7z",
        "outputId": "3a76466a-91b6-4f1d-c3ca-ddf2c934f599"
      },
      "source": [
        "# simple arithmetic with tensors\n",
        "\n",
        "y=x+3\n",
        "print(y)"
      ],
      "execution_count": null,
      "outputs": [
        {
          "output_type": "stream",
          "name": "stdout",
          "text": [
            "6.5\n"
          ]
        }
      ]
    },
    {
      "cell_type": "markdown",
      "metadata": {
        "id": "2Exr3Hvt-VvK"
      },
      "source": [
        "## 파이토치를 이용한 자동 그래디언트 계산"
      ]
    },
    {
      "cell_type": "markdown",
      "metadata": {
        "id": "TIqzawdn-c58"
      },
      "source": [
        "✅ **requires_grad = True**\n",
        "\n",
        ": 파이토치에게 해당 변수(아래에서는 x)에 대해 기울기 계산을 하도록 하는 기능\n",
        "<br>\n",
        "<br>\n",
        ": 기본적인 숫자 이상의 정보를 저장함. (ex) 그래디언트<br>\n",
        ": 이 변수에 영향을 주고받는 텐서에 대해 수식 등 추가적인 정보를 저장함.<br>\n"
      ]
    },
    {
      "cell_type": "code",
      "metadata": {
        "colab": {
          "base_uri": "https://localhost:8080/"
        },
        "id": "wqEJBTup-kuc",
        "outputId": "3d0c363e-5a3b-47ca-d444-f7b90858f096"
      },
      "source": [
        "# pytorch tensor with gradient enabled\n",
        "\n",
        "x = torch.tensor(3.5, requires_grad = True)\n",
        "print(x)"
      ],
      "execution_count": null,
      "outputs": [
        {
          "output_type": "stream",
          "text": [
            "tensor(3.5000, requires_grad=True)\n"
          ],
          "name": "stdout"
        }
      ]
    },
    {
      "cell_type": "code",
      "metadata": {
        "colab": {
          "base_uri": "https://localhost:8080/"
        },
        "id": "3tvrEyZA-vxz",
        "outputId": "166b2698-7b38-41e7-f842-153f68c3fbcc"
      },
      "source": [
        "# y is defined as a function of x\n",
        "\n",
        "y = (x-1)*(x-2)*(x-3)\n",
        "print(y)"
      ],
      "execution_count": null,
      "outputs": [
        {
          "output_type": "stream",
          "text": [
            "tensor(1.8750, grad_fn=<MulBackward0>)\n"
          ],
          "name": "stdout"
        }
      ]
    },
    {
      "cell_type": "markdown",
      "metadata": {
        "id": "JW3zCv_O-7uR"
      },
      "source": [
        "<br>\n",
        "\n",
        "🔥 ***파이토치는 y가 x에 의해 수학적 의미로 정의된 것을 기억한다!***\n",
        "\n",
        "<br>\n",
        "\n",
        "신경망을 훈련시키기 위해서는 미분을 위해 그래디언트의 오차가 필요.<br>\n",
        "==> **\" 가중치가 얼마나 변하냐 \"**에 따라  **\" 결과와의 오차가 어떻게 변하는 지 \"**  알아야 하기 때문!\n",
        "\n",
        "<br>\n"
      ]
    },
    {
      "cell_type": "code",
      "metadata": {
        "id": "LSy-GgtH_Qui"
      },
      "source": [
        "# work out gradients\n",
        "\n",
        "y.backward()"
      ],
      "execution_count": null,
      "outputs": []
    },
    {
      "cell_type": "code",
      "metadata": {
        "colab": {
          "base_uri": "https://localhost:8080/"
        },
        "id": "0RNwNKSLAfo-",
        "outputId": "2a2b935d-1076-460c-f784-04a5fd70e19d"
      },
      "source": [
        "# what is gradient at x=3.5\n",
        "\n",
        "x.grad"
      ],
      "execution_count": null,
      "outputs": [
        {
          "output_type": "execute_result",
          "data": {
            "text/plain": [
              "tensor(5.7500)"
            ]
          },
          "metadata": {
            "tags": []
          },
          "execution_count": 8
        }
      ]
    },
    {
      "cell_type": "markdown",
      "source": [
        "✅ **backward()**\n",
        "\n",
        ": 해당 함수를 통해 그래디언트에 대해 숫자로 계산하여 텐서에 저장함!<br>\n",
        ": 위 코드에서 파이토치는 y를 살펴본 다음,<br>\n",
        "&nbsp; 이 변수가 $(x-1)*(x-2)*(x-3)$이라는 수식에 의해 계산된다는 사실을 이용해 자동으로 $dy/dx$를 계산함"
      ],
      "metadata": {
        "id": "3LdLKY9iY2aI"
      }
    },
    {
      "cell_type": "markdown",
      "metadata": {
        "id": "Uqnmpf8vAkQj"
      },
      "source": [
        "## 계산 그래프"
      ]
    },
    {
      "cell_type": "markdown",
      "metadata": {
        "id": "QHcgqkeqBb87"
      },
      "source": [
        "$computational-graph$\n",
        "\n",
        ": 미적분학의 연쇄법칙과 같음!"
      ]
    },
    {
      "cell_type": "markdown",
      "metadata": {
        "id": "sUQjBstyCYH6"
      },
      "source": [
        "[ex1]"
      ]
    },
    {
      "cell_type": "code",
      "metadata": {
        "id": "AkWrC6XhBhkU"
      },
      "source": [
        "# set up simple graph relating x,y, and z\n",
        "\n",
        "x = torch.tensor(3.5, requires_grad=True)\n",
        "y = x*x\n",
        "z = 2*y+3"
      ],
      "execution_count": null,
      "outputs": []
    },
    {
      "cell_type": "code",
      "metadata": {
        "id": "JWT69ajNCB7s"
      },
      "source": [
        "# work out gradients\n",
        "\n",
        "z.backward()"
      ],
      "execution_count": null,
      "outputs": []
    },
    {
      "cell_type": "code",
      "metadata": {
        "colab": {
          "base_uri": "https://localhost:8080/"
        },
        "id": "U3J_yBDICGJb",
        "outputId": "051cee43-635e-4775-a2ff-c1f803101d18"
      },
      "source": [
        "# what is gradient at x = 3.5\n",
        "\n",
        "print(x.grad)"
      ],
      "execution_count": null,
      "outputs": [
        {
          "output_type": "stream",
          "text": [
            "tensor(14.)\n"
          ],
          "name": "stdout"
        }
      ]
    },
    {
      "cell_type": "markdown",
      "metadata": {
        "id": "6FwkF1SlCfUj"
      },
      "source": [
        "[ex2]"
      ]
    },
    {
      "cell_type": "code",
      "metadata": {
        "id": "7nqkKlUOCLI7"
      },
      "source": [
        "# set up simple graph relating to x,y,z\n",
        "\n",
        "a = torch.tensor(2.0, requires_grad=True)\n",
        "b = torch.tensor(1.0, requires_grad=True)\n",
        "\n",
        "x = 2*a + 3*b\n",
        "y = 5*a*a + 3*b*b*b\n",
        "z = 2*x + 3*y"
      ],
      "execution_count": null,
      "outputs": []
    },
    {
      "cell_type": "code",
      "metadata": {
        "id": "5LWDE447C1mC"
      },
      "source": [
        "# work out gradients\n",
        "\n",
        "z.backward()"
      ],
      "execution_count": null,
      "outputs": []
    },
    {
      "cell_type": "code",
      "metadata": {
        "colab": {
          "base_uri": "https://localhost:8080/"
        },
        "id": "k6a9NUDNC44D",
        "outputId": "35b15d12-93c4-4c08-9e62-131a8fa1d8a4"
      },
      "source": [
        "# what is gradient at a = 2.0\n",
        "\n",
        "a.grad"
      ],
      "execution_count": null,
      "outputs": [
        {
          "output_type": "execute_result",
          "data": {
            "text/plain": [
              "tensor(64.)"
            ]
          },
          "metadata": {
            "tags": []
          },
          "execution_count": 16
        }
      ]
    },
    {
      "cell_type": "markdown",
      "source": [
        "\n",
        "---\n",
        "\n",
        "\n",
        "## **SUMMARY**\n",
        "\n",
        "<br>\n",
        "\n",
        "✅ **파이토치**는 파이썬 기반의 머신러닝 프레임워크.<br>\n",
        "&nbsp;&nbsp;&nbsp;&nbsp; ▶ 넘파이와 마찬가지로, 숫자로 이루어진 행렬을 다룰 수 있게 도와줌.<br>\n",
        "&nbsp;&nbsp;&nbsp;&nbsp; ▶ 또한 머신러닝을 쉽게 해줄 다양하고 편리한 도구와 함수를 제공함.<br>\n",
        "\n",
        "✅ **텐서**는 파이토치의 기본 데이터 형태.<br>\n",
        "&nbsp;&nbsp;&nbsp;&nbsp; ▶ 다차원 행렬, 2차원 행렬, 1차원 리스트, 단일 값이 될 수 있음.<br>\n",
        "\n",
        "✅ 신경망을 훈련하기 위해서는 **그래디언트**를 계산하는 것이 필수적!<br>\n",
        "&nbsp;&nbsp;&nbsp;&nbsp; ▶ 파이토치의 주요 기능은 그래디언트를 구하기 위한 계산을 자동으로 해준다는 점<br>\n",
        "&nbsp;&nbsp;&nbsp;&nbsp; ▶ 이를 위해 파이토치는 계산그래프를 통해 다른 텐서와 어떻게 연결되어 있는지 구성함.<br>\n",
        "\n",
        "<br>\n",
        "\n",
        "---"
      ],
      "metadata": {
        "id": "HZWCc1lEdpUO"
      }
    },
    {
      "cell_type": "code",
      "source": [
        ""
      ],
      "metadata": {
        "id": "9aeK-Z4Ld7uL"
      },
      "execution_count": null,
      "outputs": []
    }
  ]
}