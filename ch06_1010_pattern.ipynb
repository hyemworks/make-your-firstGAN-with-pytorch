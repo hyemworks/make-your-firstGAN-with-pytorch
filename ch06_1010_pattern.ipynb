{
  "nbformat": 4,
  "nbformat_minor": 0,
  "metadata": {
    "colab": {
      "name": "ch06-1010-pattern.ipynb",
      "provenance": [],
      "collapsed_sections": [],
      "toc_visible": true,
      "authorship_tag": "ABX9TyOuXJ4H845N7W6GGg9oCzp4",
      "include_colab_link": true
    },
    "kernelspec": {
      "name": "python3",
      "display_name": "Python 3"
    },
    "language_info": {
      "name": "python"
    },
    "accelerator": "GPU"
  },
  "cells": [
    {
      "cell_type": "markdown",
      "metadata": {
        "id": "view-in-github",
        "colab_type": "text"
      },
      "source": [
        "<a href=\"https://colab.research.google.com/github/hyemworks/make-your-firstGAN-with-pytorch/blob/main/ch06_1010_pattern.ipynb\" target=\"_parent\"><img src=\"https://colab.research.google.com/assets/colab-badge.svg\" alt=\"Open In Colab\"/></a>"
      ]
    },
    {
      "cell_type": "markdown",
      "metadata": {
        "id": "dbMFrDl4kCqW"
      },
      "source": [
        "# **CHAPTER 06 &nbsp;&nbsp;&nbsp;&nbsp;1010 Pattern**"
      ]
    },
    {
      "cell_type": "markdown",
      "source": [
        "이미지를 생성하는 것보다 간단한 작업으로 먼저 \"1010 패턴\"형식의 값을 생성해내는 GAN을 구현해보자!\n",
        "\n",
        "<br>\n",
        "\n",
        "**[ 체크할 것 ]**\n",
        "* GAN 코드가 일반적으로 **어떻게 생겼는지** 확인\n",
        "* 신경망이 **어떻게 학습되는지** 확인"
      ],
      "metadata": {
        "id": "FhZRFkyA4Po-"
      }
    },
    {
      "cell_type": "markdown",
      "metadata": {
        "id": "wBbFpe1ykJqm"
      },
      "source": [
        "## 실제 데이터 소스\n"
      ]
    },
    {
      "cell_type": "code",
      "source": [
        "import torch\n",
        "import torch.nn as nn\n",
        "\n",
        "import pandas\n",
        "import matplotlib.pyplot as plt\n",
        "\n",
        "import numpy"
      ],
      "metadata": {
        "id": "VArbGcCR0TU1"
      },
      "execution_count": 33,
      "outputs": []
    },
    {
      "cell_type": "code",
      "source": [
        "# function to generate real data\n",
        "\n",
        "import random\n",
        "\n",
        "def generate_real():\n",
        "  real_data = torch.FloatTensor(\n",
        "      [random.uniform(0.8, 1.0),\n",
        "       random.uniform(0.0, 0.2),\n",
        "       random.uniform(0.8, 1.0),\n",
        "       random.uniform(0.0, 0.2)])\n",
        "  return real_data\n",
        "\n",
        "generate_real()"
      ],
      "metadata": {
        "colab": {
          "base_uri": "https://localhost:8080/"
        },
        "id": "UKVYFjYs0lk9",
        "outputId": "c7c2a344-f9dd-4a6e-f1be-1d48976e8c36"
      },
      "execution_count": 34,
      "outputs": [
        {
          "output_type": "execute_result",
          "data": {
            "text/plain": [
              "tensor([0.9608, 0.0919, 0.8617, 0.1352])"
            ]
          },
          "metadata": {},
          "execution_count": 34
        }
      ]
    },
    {
      "cell_type": "markdown",
      "source": [
        "## 판별기 만들기"
      ],
      "metadata": {
        "id": "6vhSieP93sSq"
      }
    },
    {
      "cell_type": "markdown",
      "source": [
        "* 입력 레이어에서 4개의 입력을 받는다.\n",
        "* 출력 레이어에서 참인 경우 1, 거짓인 경우 0을 출력한다.\n",
        "* 은닉 레이어에는 세 개의 노드가 사용된다."
      ],
      "metadata": {
        "id": "fGGczPUKFsFW"
      }
    },
    {
      "cell_type": "code",
      "source": [
        "class Discriminator(nn.Module):\n",
        "  \n",
        "  # Constructor\n",
        "  def __init__(self):\n",
        "\n",
        "    # 파이토치 부모 클래스 초기화\n",
        "    super().__init__()\n",
        "\n",
        "    # 신경망 레이어 정의 - 통과시킬 레이어를 순서대로 기술\n",
        "    self.model = nn.Sequential(\n",
        "        nn.Linear(4, 3),    # Linear : 완전연결 매핑을 의미 => 여기에서는 훈련 시 노드를 업데이트할 가중치에 대한 정보도 포함되어 있음\n",
        "        nn.Sigmoid(),\n",
        "        nn.Linear(3, 1),    # Linear : ,,\n",
        "        nn.Sigmoid()\n",
        "    )\n",
        "\n",
        "    # Loss Function 설정\n",
        "    self.loss_function = nn.MSELoss()\n",
        "\n",
        "    # Optimizer 설정\n",
        "    self.optimizer = torch.optim.SGD(self.parameters(), lr=0.01)\n",
        "\n",
        "    # 훈련 시각화 (train 함수에서 사용될 변수 초기화)\n",
        "    self.counter = 0\n",
        "    self.progress = []\n",
        "\n",
        "\n",
        "  # forward function : 네트워크에 정보 전달\n",
        "  def forward(self, inputs):\n",
        "    # 모델 실행\n",
        "    return self.model(inputs)\n",
        "\n",
        "\n",
        "\n",
        "  # train\n",
        "  def train(self, inputs, targets):\n",
        "    # inputs  : 신경망에 전달할 입력  \n",
        "    # targets : 원하는 목표 --> 이를 통해 손실을 계산\n",
        "\n",
        "    ### 신경망 출력 계산\n",
        "    outputs = self.forward(inputs)  # train 함수에서 가장 먼저 해야할 일! == forward()로 입력값을 신경망에 전달하여 결과를 얻어내는 것\n",
        "    \n",
        "    ### 손실 계산\n",
        "    loss = self.loss_function(outputs, targets)\n",
        "    #  계산 그래프의 마지막 노드는 손실함수!\n",
        "    #   => 손실 계산을 위해 각 노드에서 기울기가 변하는 것은 각 학습 파라미터가 변할 때마다 손실이 변하는 것과 같음\n",
        "    \n",
        "\n",
        "    ### 훈련 시각화 (모니터링)\n",
        "    # 카운터를 증가시키고 10회마다 오차 저장\n",
        "    self.counter += 1\n",
        "    if (self.counter % 10 == 0):\n",
        "        self.progress.append(loss.item()) # item() : 텐서에서 값을 꺼내오는 함수\n",
        "    if (self.counter % 10000 == 0):\n",
        "        print(\"counter = \", self.counter)\n",
        "\n",
        "\n",
        "    ### 손실을 사용해 네트워크의 가중치를 업데이트\n",
        "    # 기울기 초기화\n",
        "    self.optimizer.zero_grad()  # 계산 그래프의 기울기가 모두 0으로 초기화\n",
        "                                #   : 신경망을 훈련할 때마다 매번 기울기는 0으로 설정되어 있어야 함\n",
        "                                #      => 그렇게 하지 않으면 loss.backward()를 따라 계산마다 쌓이게 됨\n",
        "    # 역전파 실행\n",
        "    loss.backward()\n",
        "    # 가중치 갱신\n",
        "    self.optimizer.step()\n",
        "\n",
        "\n",
        "\n",
        "  def plot_progress(self):\n",
        "    df = pandas.DataFrame(self.progress, columns=['loss'])\n",
        "    df.plot(ylim=(0, 1.0), figsize=(16,8), alpha=0.1, marker='.', grid=True, yticks=(0, 0.25, 0.5))\n",
        "  "
      ],
      "metadata": {
        "id": "e2yGx3sg2bsz"
      },
      "execution_count": 35,
      "outputs": []
    },
    {
      "cell_type": "markdown",
      "source": [
        "## 판별기 테스트하기"
      ],
      "metadata": {
        "id": "4HXf_Mx63rFF"
      }
    },
    {
      "cell_type": "markdown",
      "source": [
        "현재는 아직 생성기를 만들기 전이기 때문에,<br>\n",
        "판별기가 생성기와 제대로 경쟁하는지 진짜 테스트하기가 어려움.<br>\n",
        "➡ 판별기가 임의의 데이터에 대하여 **실제 데이터를 구별해낼 정도의 성능을 가졌느냐**를 확인할 수 있음."
      ],
      "metadata": {
        "id": "XAs_ENlKGkev"
      }
    },
    {
      "cell_type": "code",
      "source": [
        "def generate_random(size):\n",
        "  random_data = torch.rand(size)  # 0과 1사이의 size개의 값을 가진 텐서를 반환\n",
        "  return random_data"
      ],
      "metadata": {
        "id": "GKRC5sP9d5Pp"
      },
      "execution_count": 4,
      "outputs": []
    },
    {
      "cell_type": "markdown",
      "source": [
        "이제 제대로 분류하면 보상을 받는 훈련과정으로 판별기를 훈련해보자.\n",
        "\n",
        "* 1010 패턴 데이터는 진짜이므로 목표출력은 1.0으로\n",
        "* 임의의 노이즈 데이터는 가짜이므로 목표출력은 0.0으로"
      ],
      "metadata": {
        "id": "bneoL9PDeuVb"
      }
    },
    {
      "cell_type": "code",
      "source": [
        "D=Discriminator()\n",
        "\n",
        "for i in range(10000):\n",
        "  # real data\n",
        "  D.train(generate_real(), torch.FloatTensor([1.0]))\n",
        "  # fake data\n",
        "  D.train(generate_random(4), torch.FloatTensor([0.0]))"
      ],
      "metadata": {
        "colab": {
          "base_uri": "https://localhost:8080/"
        },
        "id": "D2C2gnmHd5BO",
        "outputId": "c64e8aea-c04f-49b5-d08e-ed51e6c3e6c8"
      },
      "execution_count": 6,
      "outputs": [
        {
          "output_type": "stream",
          "name": "stdout",
          "text": [
            "counter =  10000\n",
            "counter =  20000\n"
          ]
        }
      ]
    },
    {
      "cell_type": "code",
      "source": [
        "# plot discriminator loss\n",
        "\n",
        "D.plot_progress()"
      ],
      "metadata": {
        "colab": {
          "base_uri": "https://localhost:8080/",
          "height": 483
        },
        "id": "BxFByJPIgD-8",
        "outputId": "f446e58d-1b3f-4d0a-916b-4b3e070cb8fb"
      },
      "execution_count": 7,
      "outputs": [
        {
          "output_type": "display_data",
          "data": {
            "image/png": "[encoded data removed]",
            "text/plain": [
              "<Figure size 1152x576 with 1 Axes>"
            ]
          },
          "metadata": {
            "needs_background": "light"
          }
        }
      ]
    },
    {
      "cell_type": "code",
      "source": [
        "# manually run discriminator to check it can tell real data from fake\n",
        "\n",
        "test_real = generate_real()\n",
        "test_fake = generate_random(4)\n",
        "\n",
        "print( test_real )\n",
        "print( D.forward(test_real) )\n",
        "print( D.forward(test_real).item() )\n",
        "\n",
        "print()\n",
        "\n",
        "print( test_fake )\n",
        "print( D.forward(test_fake) )\n",
        "print( D.forward(test_fake).item() )"
      ],
      "metadata": {
        "colab": {
          "base_uri": "https://localhost:8080/"
        },
        "id": "ZF_FovY0g8-l",
        "outputId": "d41d62ed-8842-4aee-e6fc-78cd42a46cb6"
      },
      "execution_count": 19,
      "outputs": [
        {
          "output_type": "stream",
          "name": "stdout",
          "text": [
            "tensor([0.9142, 0.1556, 0.8414, 0.0021])\n",
            "tensor([0.8239], grad_fn=<SigmoidBackward0>)\n",
            "0.8239241242408752\n",
            "\n",
            "tensor([0.5019, 0.9176, 0.3230, 0.2544])\n",
            "tensor([0.0788], grad_fn=<SigmoidBackward0>)\n",
            "0.07883457839488983\n"
          ]
        }
      ]
    },
    {
      "cell_type": "markdown",
      "source": [
        "> 🦋 **TORCH.TENSOR.ITEM**<br>\n",
        "Returns the value of this tensor as a standard Python number.<br>\n",
        "This only works for tensors with one element."
      ],
      "metadata": {
        "id": "yKnXfFHVhwSJ"
      }
    },
    {
      "cell_type": "markdown",
      "source": [
        "## 생성기 만들기"
      ],
      "metadata": {
        "id": "UQwhhmx13qy4"
      }
    },
    {
      "cell_type": "markdown",
      "source": [
        "생성기는 단순히 함수가 아니라 **훈련**을 필요로 하는 신경망!"
      ],
      "metadata": {
        "id": "1Vvo4tiwjOXo"
      }
    },
    {
      "cell_type": "code",
      "source": [
        "class Generator(nn.Module):\n",
        "\n",
        "\n",
        "  def __init__(self):\n",
        "    \n",
        "    # 파이토치 부모클래스 초기화\n",
        "    super().__init__()\n",
        "\n",
        "    # 신경망 레이어 정의\n",
        "    self.model = nn.Sequential(\n",
        "        nn.Linear(1,3),\n",
        "        nn.Sigmoid(),\n",
        "        nn.Linear(3,4),\n",
        "        nn.Sigmoid()\n",
        "    )\n",
        "\n",
        "    # 옵티마이저 설정\n",
        "    self.optimizer = torch.optim.SGD(self.parameters(), lr=0.01)\n",
        "\n",
        "    # 진행측정을 위한 변수 초기화\n",
        "    self.counter = 0\n",
        "    self.progress = []\n",
        "    self.image_list = []\n",
        "\n",
        "\n",
        "\n",
        "  def forward(self, inputs):\n",
        "    \n",
        "    # 모델 실행\n",
        "    return self.model(inputs)\n",
        "\n",
        "\n",
        "\n",
        "  def train(self, D, inputs, targets):\n",
        "\n",
        "    # 신경망 출력 계산\n",
        "    g_output = self.forward(inputs)\n",
        "\n",
        "    # 판별기로 전달\n",
        "    d_output = D.forward(g_output)\n",
        "\n",
        "    # 오차계산\n",
        "    loss = D.loss_function(d_output, targets)\n",
        "\n",
        "\n",
        "    # 카운터를 증가시키고 10회마다 오차 저장\n",
        "    self.counter += 1\n",
        "    if (self.counter %10 == 0):\n",
        "      self.progress.append(loss.item())\n",
        "    \n",
        "    # 매 1000회마다 이미지 저장\n",
        "    if (self.counter % 1000 == 0):\n",
        "      self.image_list.append( G.forward(torch.FloatTensor([0.5])).detach().numpy())\n",
        "\n",
        "\n",
        "    # 기울기를 초기화하고 역전파 후 가중치 갱신\n",
        "    self.optimizer.zero_grad()\n",
        "    loss.backward()\n",
        "    self.optimizer.step()\n",
        "\n",
        "\n",
        "\n",
        "  def plot_progress(self):\n",
        "    df = pandas.DataFrame(self.progress, columns=['loss'])\n",
        "    df.plot(ylim=(0, 1.0), figsize=(16,8), alpha=0.1, marker='.', grid=True, yticks=(0, 0.25, 0.5))\n",
        "\n",
        "\n",
        "  def plot_images(self):\n",
        "    # plot images collected during training\n",
        "    plt.figure(figsize=(16,8))\n",
        "    plt.imshow(numpy.array(self.image_list).T, interpolation = \"None\", cmap=\"Blues\")\n",
        "\n"
      ],
      "metadata": {
        "id": "OFCc6l32jfOo"
      },
      "execution_count": 40,
      "outputs": []
    },
    {
      "cell_type": "markdown",
      "source": [
        "* 생성기에는 판별기와 달리 <code>self.loss</code>를 정의하는 부분이 없다\n",
        "* 생성기는 판별기로부터 흘러온 그래디언트 오차를 통해 업데이트가 된다"
      ],
      "metadata": {
        "id": "s4iQiBuOksAl"
      }
    },
    {
      "cell_type": "markdown",
      "source": [
        "## 생성기 결과 확인하기"
      ],
      "metadata": {
        "id": "l4JQgnjL3p1i"
      }
    },
    {
      "cell_type": "code",
      "source": [
        "# check the generator output\n",
        "\n",
        "G = Generator()\n",
        "G.forward(torch.FloatTensor([0.5]))"
      ],
      "metadata": {
        "colab": {
          "base_uri": "https://localhost:8080/"
        },
        "id": "OfNXgaahnVXX",
        "outputId": "6fad8517-b020-4c74-b0cb-ba7702520c51"
      },
      "execution_count": 24,
      "outputs": [
        {
          "output_type": "execute_result",
          "data": {
            "text/plain": [
              "tensor([0.6407, 0.4598, 0.7788, 0.6116], grad_fn=<SigmoidBackward0>)"
            ]
          },
          "metadata": {},
          "execution_count": 24
        }
      ]
    },
    {
      "cell_type": "markdown",
      "source": [
        "## GAN 훈련하기"
      ],
      "metadata": {
        "id": "9EDQ9vWD3okZ"
      }
    },
    {
      "cell_type": "code",
      "source": [
        "%%time\n",
        "\n",
        "# Create Discriminator and Generator\n",
        "\n",
        "D = Discriminator()\n",
        "G = Generator()\n",
        "\n",
        "\n",
        "# Train Discriminator and Generator\n",
        "\n",
        "for i in range (10000):\n",
        "  \n",
        "  # 01. train dicriminator on \"real data\"\n",
        "  D.train(generate_real(), torch.FloatTensor([1.0]))\n",
        "\n",
        "  # 02. train discriminator on \"fake data\"\n",
        "  D.train(G.forward(torch.FloatTensor([0.5])).detach(), torch.FloatTensor([0.0]))\n",
        "          # use detach() so gradients in G are not calculated\n",
        "\n",
        "  # 03. train generator\n",
        "  G.train(D, torch.FloatTensor([0.5]), torch.FloatTensor([1.0]))\n"
      ],
      "metadata": {
        "colab": {
          "base_uri": "https://localhost:8080/"
        },
        "id": "IKuxvlibnx3T",
        "outputId": "e6b45e85-c1ae-43d9-ab0f-548dd200cf05"
      },
      "execution_count": 41,
      "outputs": [
        {
          "output_type": "stream",
          "name": "stdout",
          "text": [
            "counter =  10000\n",
            "counter =  20000\n",
            "CPU times: user 17.6 s, sys: 30.5 ms, total: 17.6 s\n",
            "Wall time: 17.5 s\n"
          ]
        }
      ]
    },
    {
      "cell_type": "code",
      "source": [
        "# plot discriminator error\n",
        "\n",
        "D.plot_progress()"
      ],
      "metadata": {
        "colab": {
          "base_uri": "https://localhost:8080/",
          "height": 483
        },
        "id": "8O3VjHbTpUbb",
        "outputId": "0fb5bf8a-5661-4e47-a75b-290b03c8a38c"
      },
      "execution_count": 42,
      "outputs": [
        {
          "output_type": "display_data",
          "data": {
            "image/png": "[encoded data removed]",
            "text/plain": [
              "<Figure size 1152x576 with 1 Axes>"
            ]
          },
          "metadata": {
            "needs_background": "light"
          }
        }
      ]
    },
    {
      "cell_type": "markdown",
      "source": [
        "↪ 훈련의 후반부로 갈수록 손실이 0.25로 올라가는 이유 ➡ **생성기가 판별기가 구별하기 쉽지않은 데이터를 만들어내기 시작했음을 의미!**"
      ],
      "metadata": {
        "id": "CTzjE1Dspu_O"
      }
    },
    {
      "cell_type": "code",
      "source": [
        "# plot generator error\n",
        "\n",
        "G.plot_progress()"
      ],
      "metadata": {
        "colab": {
          "base_uri": "https://localhost:8080/",
          "height": 483
        },
        "id": "8NqHnZGQpdqh",
        "outputId": "edb966db-ca6d-4110-9d86-118aee9c3983"
      },
      "execution_count": 43,
      "outputs": [
        {
          "output_type": "display_data",
          "data": {
            "image/png": "[encoded data removed]",
            "text/plain": [
              "<Figure size 1152x576 with 1 Axes>"
            ]
          },
          "metadata": {
            "needs_background": "light"
          }
        }
      ]
    },
    {
      "cell_type": "code",
      "source": [
        "# manually run generator to see its outputs\n",
        "\n",
        "G.forward(torch.FloatTensor([0.5]))"
      ],
      "metadata": {
        "colab": {
          "base_uri": "https://localhost:8080/"
        },
        "id": "d3MYF-RpqQDs",
        "outputId": "676bbfae-974d-4535-9af8-64bd6868d430"
      },
      "execution_count": 28,
      "outputs": [
        {
          "output_type": "execute_result",
          "data": {
            "text/plain": [
              "tensor([0.9441, 0.0611, 0.9114, 0.0551], grad_fn=<SigmoidBackward0>)"
            ]
          },
          "metadata": {},
          "execution_count": 28
        }
      ]
    },
    {
      "cell_type": "markdown",
      "source": [
        "↪ 위 결과를 통해, 생성기가 1010패턴을 생성하도록 잘 훈련되었음을 알 수 있음\n",
        "\n",
        "<br>\n",
        "<br>\n",
        "<br>\n"
      ],
      "metadata": {
        "id": "-zdUVrZvqcWV"
      }
    },
    {
      "cell_type": "markdown",
      "source": [
        "##### **[+]**\n",
        "\n",
        "추가적인 실험으로, 1010 패턴이 어떤 식으로 훈련을 거치며 변화하는지 시각화해보자."
      ],
      "metadata": {
        "id": "GyLf-BOGq0Nu"
      }
    },
    {
      "cell_type": "markdown",
      "source": [
        "\n",
        "\n",
        "```\n",
        "# save image every 1000 times\n",
        "\n",
        "if (i % 1000 == 0):\n",
        "  image_list.append( G.forward(torch.FloatTensor([0.5])).detach().numpy())\n",
        "```\n",
        "\n",
        "\n",
        "\n",
        "↪ 생성기의 출력 텐서에서 넘파이 행렬로 값을 추출하기 위해 **numpy()** 함수 호출 전 **detach()** 함수를 통해 계산 그래프로부터 값을 떼어내는 과정이 필요\n",
        "\n",
        "(해당부분을 generator 클래스 내부에 삽입)"
      ],
      "metadata": {
        "id": "H9EmTCQYr_GZ"
      }
    },
    {
      "cell_type": "markdown",
      "source": [
        "\n",
        "\n",
        "```\n",
        "# plot images collected during training\n",
        "\n",
        "plt.figure(figsize=(16,8))\n",
        "plt.imshow(numpy.array(image_list).T, interpolation = \"None\", cmap=\"Blues\")\n",
        "```\n",
        "\n",
        "(해당부분 또한 삽입)\n"
      ],
      "metadata": {
        "id": "gU1_yMq8uriS"
      }
    },
    {
      "cell_type": "code",
      "source": [
        "G.image_list"
      ],
      "metadata": {
        "colab": {
          "base_uri": "https://localhost:8080/"
        },
        "id": "8QU7e-8Qvufc",
        "outputId": "82560a8c-7737-423d-f08c-49d88a38dd1a"
      },
      "execution_count": 51,
      "outputs": [
        {
          "output_type": "execute_result",
          "data": {
            "text/plain": [
              "[array([0.5402625 , 0.541809  , 0.60905427, 0.345053  ], dtype=float32),\n",
              " array([0.5442577 , 0.5329381 , 0.6272503 , 0.33223814], dtype=float32),\n",
              " array([0.55840456, 0.5115966 , 0.6599743 , 0.30899537], dtype=float32),\n",
              " array([0.5910023 , 0.46404243, 0.7092    , 0.27215725], dtype=float32),\n",
              " array([0.64892775, 0.37652406, 0.76884204, 0.22302853], dtype=float32),\n",
              " array([0.7249465 , 0.26408243, 0.82489216, 0.17134632], dtype=float32),\n",
              " array([0.79657507, 0.17227837, 0.867427  , 0.12882629], dtype=float32),\n",
              " array([0.8493943 , 0.11660812, 0.89648634, 0.09913027], dtype=float32),\n",
              " array([0.88474005, 0.08497468, 0.91606593, 0.07939512], dtype=float32),\n",
              " array([0.9081745 , 0.06627982, 0.92952776, 0.0661606 ], dtype=float32)]"
            ]
          },
          "metadata": {},
          "execution_count": 51
        }
      ]
    },
    {
      "cell_type": "code",
      "source": [
        "# plot images collected during training\n",
        "\n",
        "G.plot_images()"
      ],
      "metadata": {
        "colab": {
          "base_uri": "https://localhost:8080/",
          "height": 409
        },
        "id": "3yYqTL-juzeY",
        "outputId": "d2e0b216-b314-426a-a5ff-b63df1fab16e"
      },
      "execution_count": 45,
      "outputs": [
        {
          "output_type": "display_data",
          "data": {
            "image/png": "[encoded data removed]",
            "text/plain": [
              "<Figure size 1152x576 with 1 Axes>"
            ]
          },
          "metadata": {
            "needs_background": "light"
          }
        }
      ]
    },
    {
      "cell_type": "markdown",
      "source": [
        "---\n",
        "\n",
        "## **Summary**\n",
        "> 🦋 GAN 훈련법<br>\n",
        "<br>\n",
        "&nbsp;&nbsp;&nbsp;&nbsp; (1) 실제 데이터셋 미리 살펴보기<br>\n",
        "&nbsp;&nbsp;&nbsp;&nbsp; (2) 판별기가 적어도 임의의 노이즈와 실제 데이터를 구별하도록 학습할 수 있을 성능은 지니는 지 확인하기<br>\n",
        "&nbsp;&nbsp;&nbsp;&nbsp; (3) 훈련되지 않은 생성기가 올바른 형태의 데이터를 만들어내는지 확인하기<br>\n",
        "&nbsp;&nbsp;&nbsp;&nbsp; (4) 손실이 어떻게 변하는지 **시각화**하기\n",
        "<br>\n",
        "<br>\n",
        "\n",
        "> * 잘 훈련된 GAN은 생성된 가짜 이미지와 실제 이미지를 잘 구별하지 못하는 상태<br>\n",
        "즉, 출력은 0.5로서 0.0과 1.0의 중간에 해당하는 값.<br>\n",
        "↪ 평균제곱오차의 이상적인 값은 0.25\n",
        "* 생성기와 판별기를 각각 따로 시각화하는 것은 유용함.\n",
        "* 생성기의 손실은 생성된 데이터로부터 발생한 판별기의 손실임.\n",
        "\n",
        "---"
      ],
      "metadata": {
        "id": "e67skN2zORdn"
      }
    }
  ]
}