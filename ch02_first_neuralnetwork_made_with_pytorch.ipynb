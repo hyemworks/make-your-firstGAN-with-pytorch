{
  "nbformat": 4,
  "nbformat_minor": 0,
  "metadata": {
    "colab": {
      "name": "ch02-first-neuralnetwork-made-with-pytorch",
      "provenance": [],
      "collapsed_sections": [],
      "toc_visible": true,
      "authorship_tag": "ABX9TyP4+m59dlmx5gJoGH6t7W0K",
      "include_colab_link": true
    },
    "kernelspec": {
      "name": "python3",
      "display_name": "Python 3"
    },
    "language_info": {
      "name": "python"
    }
  },
  "cells": [
    {
      "cell_type": "markdown",
      "metadata": {
        "id": "view-in-github",
        "colab_type": "text"
      },
      "source": [
        "<a href=\"https://colab.research.google.com/github/hyemworks/make-your-firstGAN-with-pytorch/blob/main/ch02_first_neuralnetwork_made_with_pytorch.ipynb\" target=\"_parent\"><img src=\"https://colab.research.google.com/assets/colab-badge.svg\" alt=\"Open In Colab\"/></a>"
      ]
    },
    {
      "cell_type": "markdown",
      "metadata": {
        "id": "udm_u9X6iZET"
      },
      "source": [
        "# <b>Chapter 02 &nbsp;&nbsp;&nbsp;&nbsp; First Neural Network made with Pytorch</b>"
      ]
    },
    {
      "cell_type": "markdown",
      "metadata": {
        "id": "Wh_1yEJSiriN"
      },
      "source": [
        "## MNIST 이미지 데이터셋\n",
        "\n",
        "✅ **MNIST** dataset\n",
        "\n",
        ": 머신러닝 알고리즘을 테스트하는 데 쓰이는 데이터셋<br><br>\n",
        ": 훈련용 이미지 60,000개 + 테스트용 이미지 10,000개<br>\n",
        ": 각 이미지는 단일 색상의 28*28 pixel<br>\n",
        ": 각 pixel은 0~255 사이의 값으로 밝기 표현됨.<br>\n",
        "\n"
      ]
    },
    {
      "cell_type": "markdown",
      "metadata": {
        "id": "oI2boBM_FGIQ"
      },
      "source": [
        "## MNIST 데이터 얻기\n",
        "\n",
        "*책에서 제공하는 링크를 통해 다운로드 받은 후, 실행파일들이 들어있는 동일 폴더 내에 mnist_data 폴더를 만들어 그 안에 업로드*"
      ]
    },
    {
      "cell_type": "markdown",
      "metadata": {
        "id": "6qtTyy1NFQfE"
      },
      "source": [
        "## 데이터 살펴보기"
      ]
    },
    {
      "cell_type": "markdown",
      "metadata": {
        "id": "2dJipcs2FYXZ"
      },
      "source": [
        "업로드한 데이터를 파이썬에서 접근할 수 있도록 하기위해 **드라이브 마운트**가 필요하다!"
      ]
    },
    {
      "cell_type": "code",
      "metadata": {
        "id": "ELuWC8qTbbgF",
        "colab": {
          "base_uri": "https://localhost:8080/"
        },
        "outputId": "0e7d28e2-36df-4ee4-b1e3-f26072cd730c"
      },
      "source": [
        "# mount Drive to access data files\n",
        "\n",
        "from google.colab import drive\n",
        "drive.mount('./mount')"
      ],
      "execution_count": null,
      "outputs": [
        {
          "output_type": "stream",
          "name": "stdout",
          "text": [
            "Mounted at ./mount\n"
          ]
        }
      ]
    },
    {
      "cell_type": "code",
      "metadata": {
        "id": "oatxKNCldLBO"
      },
      "source": [
        "# import pandas to read *.csv files\n",
        "\n",
        "import pandas"
      ],
      "execution_count": null,
      "outputs": []
    },
    {
      "cell_type": "code",
      "metadata": {
        "id": "g7P4Oss0dgde"
      },
      "source": [
        "# read train_data to dataframe by pandas\n",
        "\n",
        "df = pandas.read_csv(\"mount/My Drive/Colab Notebooks/make-your-firstGAN-with-pytorch/mnist_data/mnist_train.csv\", header = None)"
      ],
      "execution_count": null,
      "outputs": []
    },
    {
      "cell_type": "markdown",
      "metadata": {
        "id": "LywadVqfeJFy"
      },
      "source": [
        "<br>\n",
        "\n",
        "✅ **pandas**의 <b>데이터 프레임$^{dataframe}$</b>\n",
        "\n",
        "  : 넘파이 행렬과 비슷한 기능<br>\n",
        "  : 열과 행의 관리 등 추가적인 기능이 제공되며,<br>\n",
        "  &nbsp; 합계를 구하거나 데이터를 필터링하는 등의 편리한 기능도 제공됨.<br>\n",
        "  <br>\n",
        "  &nbsp;&nbsp; ▶ 우리가 사용하는 MNIST 데이터 파일이 **쉼표로 구분된 값**,<br>\n",
        "  &nbsp; &nbsp;&nbsp;&nbsp;&nbsp;&nbsp;즉 **CSV $^{comma-separated- values}$**로 이루어져 있기 때문에 pandas를 이용하는 것이 굉장히 편리!\n",
        "\n",
        "<br>"
      ]
    },
    {
      "cell_type": "code",
      "metadata": {
        "colab": {
          "base_uri": "https://localhost:8080/",
          "height": 300
        },
        "id": "hPk1frnZeNBV",
        "outputId": "1678cbfd-088f-4021-a248-8c6a46baaec1"
      },
      "source": [
        "df.head() # show the 5 rows\n",
        "\n",
        "# 맨 처음의 숫자  : 해당하는 이미지의 정답 숫자\n",
        "# 나머지의 숫자   : 784(=28*28)개 픽셀 각각의 값"
      ],
      "execution_count": null,
      "outputs": [
        {
          "output_type": "execute_result",
          "data": {
            "text/html": [
              "\n",
              "  <div id=\"df-dcfb49aa-437b-4f1d-9102-cbdbf1865f58\">\n",
              "    <div class=\"colab-df-container\">\n",
              "      <div>\n",
              "<style scoped>\n",
              "    .dataframe tbody tr th:only-of-type {\n",
              "        vertical-align: middle;\n",
              "    }\n",
              "\n",
              "    .dataframe tbody tr th {\n",
              "        vertical-align: top;\n",
              "    }\n",
              "\n",
              "    .dataframe thead th {\n",
              "        text-align: right;\n",
              "    }\n",
              "</style>\n",
              "<table border=\"1\" class=\"dataframe\">\n",
              "  <thead>\n",
              "    <tr style=\"text-align: right;\">\n",
              "      <th></th>\n",
              "      <th>0</th>\n",
              "      <th>1</th>\n",
              "      <th>2</th>\n",
              "      <th>3</th>\n",
              "      <th>4</th>\n",
              "      <th>5</th>\n",
              "      <th>6</th>\n",
              "      <th>7</th>\n",
              "      <th>8</th>\n",
              "      <th>9</th>\n",
              "      <th>10</th>\n",
              "      <th>11</th>\n",
              "      <th>12</th>\n",
              "      <th>13</th>\n",
              "      <th>14</th>\n",
              "      <th>15</th>\n",
              "      <th>16</th>\n",
              "      <th>17</th>\n",
              "      <th>18</th>\n",
              "      <th>19</th>\n",
              "      <th>20</th>\n",
              "      <th>21</th>\n",
              "      <th>22</th>\n",
              "      <th>23</th>\n",
              "      <th>24</th>\n",
              "      <th>25</th>\n",
              "      <th>26</th>\n",
              "      <th>27</th>\n",
              "      <th>28</th>\n",
              "      <th>29</th>\n",
              "      <th>30</th>\n",
              "      <th>31</th>\n",
              "      <th>32</th>\n",
              "      <th>33</th>\n",
              "      <th>34</th>\n",
              "      <th>35</th>\n",
              "      <th>36</th>\n",
              "      <th>37</th>\n",
              "      <th>38</th>\n",
              "      <th>39</th>\n",
              "      <th>...</th>\n",
              "      <th>745</th>\n",
              "      <th>746</th>\n",
              "      <th>747</th>\n",
              "      <th>748</th>\n",
              "      <th>749</th>\n",
              "      <th>750</th>\n",
              "      <th>751</th>\n",
              "      <th>752</th>\n",
              "      <th>753</th>\n",
              "      <th>754</th>\n",
              "      <th>755</th>\n",
              "      <th>756</th>\n",
              "      <th>757</th>\n",
              "      <th>758</th>\n",
              "      <th>759</th>\n",
              "      <th>760</th>\n",
              "      <th>761</th>\n",
              "      <th>762</th>\n",
              "      <th>763</th>\n",
              "      <th>764</th>\n",
              "      <th>765</th>\n",
              "      <th>766</th>\n",
              "      <th>767</th>\n",
              "      <th>768</th>\n",
              "      <th>769</th>\n",
              "      <th>770</th>\n",
              "      <th>771</th>\n",
              "      <th>772</th>\n",
              "      <th>773</th>\n",
              "      <th>774</th>\n",
              "      <th>775</th>\n",
              "      <th>776</th>\n",
              "      <th>777</th>\n",
              "      <th>778</th>\n",
              "      <th>779</th>\n",
              "      <th>780</th>\n",
              "      <th>781</th>\n",
              "      <th>782</th>\n",
              "      <th>783</th>\n",
              "      <th>784</th>\n",
              "    </tr>\n",
              "  </thead>\n",
              "  <tbody>\n",
              "    <tr>\n",
              "      <th>0</th>\n",
              "      <td>5</td>\n",
              "      <td>0</td>\n",
              "      <td>0</td>\n",
              "      <td>0</td>\n",
              "      <td>0</td>\n",
              "      <td>0</td>\n",
              "      <td>0</td>\n",
              "      <td>0</td>\n",
              "      <td>0</td>\n",
              "      <td>0</td>\n",
              "      <td>0</td>\n",
              "      <td>0</td>\n",
              "      <td>0</td>\n",
              "      <td>0</td>\n",
              "      <td>0</td>\n",
              "      <td>0</td>\n",
              "      <td>0</td>\n",
              "      <td>0</td>\n",
              "      <td>0</td>\n",
              "      <td>0</td>\n",
              "      <td>0</td>\n",
              "      <td>0</td>\n",
              "      <td>0</td>\n",
              "      <td>0</td>\n",
              "      <td>0</td>\n",
              "      <td>0</td>\n",
              "      <td>0</td>\n",
              "      <td>0</td>\n",
              "      <td>0</td>\n",
              "      <td>0</td>\n",
              "      <td>0</td>\n",
              "      <td>0</td>\n",
              "      <td>0</td>\n",
              "      <td>0</td>\n",
              "      <td>0</td>\n",
              "      <td>0</td>\n",
              "      <td>0</td>\n",
              "      <td>0</td>\n",
              "      <td>0</td>\n",
              "      <td>0</td>\n",
              "      <td>...</td>\n",
              "      <td>0</td>\n",
              "      <td>0</td>\n",
              "      <td>0</td>\n",
              "      <td>0</td>\n",
              "      <td>0</td>\n",
              "      <td>0</td>\n",
              "      <td>0</td>\n",
              "      <td>0</td>\n",
              "      <td>0</td>\n",
              "      <td>0</td>\n",
              "      <td>0</td>\n",
              "      <td>0</td>\n",
              "      <td>0</td>\n",
              "      <td>0</td>\n",
              "      <td>0</td>\n",
              "      <td>0</td>\n",
              "      <td>0</td>\n",
              "      <td>0</td>\n",
              "      <td>0</td>\n",
              "      <td>0</td>\n",
              "      <td>0</td>\n",
              "      <td>0</td>\n",
              "      <td>0</td>\n",
              "      <td>0</td>\n",
              "      <td>0</td>\n",
              "      <td>0</td>\n",
              "      <td>0</td>\n",
              "      <td>0</td>\n",
              "      <td>0</td>\n",
              "      <td>0</td>\n",
              "      <td>0</td>\n",
              "      <td>0</td>\n",
              "      <td>0</td>\n",
              "      <td>0</td>\n",
              "      <td>0</td>\n",
              "      <td>0</td>\n",
              "      <td>0</td>\n",
              "      <td>0</td>\n",
              "      <td>0</td>\n",
              "      <td>0</td>\n",
              "    </tr>\n",
              "    <tr>\n",
              "      <th>1</th>\n",
              "      <td>0</td>\n",
              "      <td>0</td>\n",
              "      <td>0</td>\n",
              "      <td>0</td>\n",
              "      <td>0</td>\n",
              "      <td>0</td>\n",
              "      <td>0</td>\n",
              "      <td>0</td>\n",
              "      <td>0</td>\n",
              "      <td>0</td>\n",
              "      <td>0</td>\n",
              "      <td>0</td>\n",
              "      <td>0</td>\n",
              "      <td>0</td>\n",
              "      <td>0</td>\n",
              "      <td>0</td>\n",
              "      <td>0</td>\n",
              "      <td>0</td>\n",
              "      <td>0</td>\n",
              "      <td>0</td>\n",
              "      <td>0</td>\n",
              "      <td>0</td>\n",
              "      <td>0</td>\n",
              "      <td>0</td>\n",
              "      <td>0</td>\n",
              "      <td>0</td>\n",
              "      <td>0</td>\n",
              "      <td>0</td>\n",
              "      <td>0</td>\n",
              "      <td>0</td>\n",
              "      <td>0</td>\n",
              "      <td>0</td>\n",
              "      <td>0</td>\n",
              "      <td>0</td>\n",
              "      <td>0</td>\n",
              "      <td>0</td>\n",
              "      <td>0</td>\n",
              "      <td>0</td>\n",
              "      <td>0</td>\n",
              "      <td>0</td>\n",
              "      <td>...</td>\n",
              "      <td>0</td>\n",
              "      <td>0</td>\n",
              "      <td>0</td>\n",
              "      <td>0</td>\n",
              "      <td>0</td>\n",
              "      <td>0</td>\n",
              "      <td>0</td>\n",
              "      <td>0</td>\n",
              "      <td>0</td>\n",
              "      <td>0</td>\n",
              "      <td>0</td>\n",
              "      <td>0</td>\n",
              "      <td>0</td>\n",
              "      <td>0</td>\n",
              "      <td>0</td>\n",
              "      <td>0</td>\n",
              "      <td>0</td>\n",
              "      <td>0</td>\n",
              "      <td>0</td>\n",
              "      <td>0</td>\n",
              "      <td>0</td>\n",
              "      <td>0</td>\n",
              "      <td>0</td>\n",
              "      <td>0</td>\n",
              "      <td>0</td>\n",
              "      <td>0</td>\n",
              "      <td>0</td>\n",
              "      <td>0</td>\n",
              "      <td>0</td>\n",
              "      <td>0</td>\n",
              "      <td>0</td>\n",
              "      <td>0</td>\n",
              "      <td>0</td>\n",
              "      <td>0</td>\n",
              "      <td>0</td>\n",
              "      <td>0</td>\n",
              "      <td>0</td>\n",
              "      <td>0</td>\n",
              "      <td>0</td>\n",
              "      <td>0</td>\n",
              "    </tr>\n",
              "    <tr>\n",
              "      <th>2</th>\n",
              "      <td>4</td>\n",
              "      <td>0</td>\n",
              "      <td>0</td>\n",
              "      <td>0</td>\n",
              "      <td>0</td>\n",
              "      <td>0</td>\n",
              "      <td>0</td>\n",
              "      <td>0</td>\n",
              "      <td>0</td>\n",
              "      <td>0</td>\n",
              "      <td>0</td>\n",
              "      <td>0</td>\n",
              "      <td>0</td>\n",
              "      <td>0</td>\n",
              "      <td>0</td>\n",
              "      <td>0</td>\n",
              "      <td>0</td>\n",
              "      <td>0</td>\n",
              "      <td>0</td>\n",
              "      <td>0</td>\n",
              "      <td>0</td>\n",
              "      <td>0</td>\n",
              "      <td>0</td>\n",
              "      <td>0</td>\n",
              "      <td>0</td>\n",
              "      <td>0</td>\n",
              "      <td>0</td>\n",
              "      <td>0</td>\n",
              "      <td>0</td>\n",
              "      <td>0</td>\n",
              "      <td>0</td>\n",
              "      <td>0</td>\n",
              "      <td>0</td>\n",
              "      <td>0</td>\n",
              "      <td>0</td>\n",
              "      <td>0</td>\n",
              "      <td>0</td>\n",
              "      <td>0</td>\n",
              "      <td>0</td>\n",
              "      <td>0</td>\n",
              "      <td>...</td>\n",
              "      <td>0</td>\n",
              "      <td>0</td>\n",
              "      <td>0</td>\n",
              "      <td>0</td>\n",
              "      <td>0</td>\n",
              "      <td>0</td>\n",
              "      <td>0</td>\n",
              "      <td>0</td>\n",
              "      <td>0</td>\n",
              "      <td>0</td>\n",
              "      <td>0</td>\n",
              "      <td>0</td>\n",
              "      <td>0</td>\n",
              "      <td>0</td>\n",
              "      <td>0</td>\n",
              "      <td>0</td>\n",
              "      <td>0</td>\n",
              "      <td>0</td>\n",
              "      <td>0</td>\n",
              "      <td>0</td>\n",
              "      <td>0</td>\n",
              "      <td>0</td>\n",
              "      <td>0</td>\n",
              "      <td>0</td>\n",
              "      <td>0</td>\n",
              "      <td>0</td>\n",
              "      <td>0</td>\n",
              "      <td>0</td>\n",
              "      <td>0</td>\n",
              "      <td>0</td>\n",
              "      <td>0</td>\n",
              "      <td>0</td>\n",
              "      <td>0</td>\n",
              "      <td>0</td>\n",
              "      <td>0</td>\n",
              "      <td>0</td>\n",
              "      <td>0</td>\n",
              "      <td>0</td>\n",
              "      <td>0</td>\n",
              "      <td>0</td>\n",
              "    </tr>\n",
              "    <tr>\n",
              "      <th>3</th>\n",
              "      <td>1</td>\n",
              "      <td>0</td>\n",
              "      <td>0</td>\n",
              "      <td>0</td>\n",
              "      <td>0</td>\n",
              "      <td>0</td>\n",
              "      <td>0</td>\n",
              "      <td>0</td>\n",
              "      <td>0</td>\n",
              "      <td>0</td>\n",
              "      <td>0</td>\n",
              "      <td>0</td>\n",
              "      <td>0</td>\n",
              "      <td>0</td>\n",
              "      <td>0</td>\n",
              "      <td>0</td>\n",
              "      <td>0</td>\n",
              "      <td>0</td>\n",
              "      <td>0</td>\n",
              "      <td>0</td>\n",
              "      <td>0</td>\n",
              "      <td>0</td>\n",
              "      <td>0</td>\n",
              "      <td>0</td>\n",
              "      <td>0</td>\n",
              "      <td>0</td>\n",
              "      <td>0</td>\n",
              "      <td>0</td>\n",
              "      <td>0</td>\n",
              "      <td>0</td>\n",
              "      <td>0</td>\n",
              "      <td>0</td>\n",
              "      <td>0</td>\n",
              "      <td>0</td>\n",
              "      <td>0</td>\n",
              "      <td>0</td>\n",
              "      <td>0</td>\n",
              "      <td>0</td>\n",
              "      <td>0</td>\n",
              "      <td>0</td>\n",
              "      <td>...</td>\n",
              "      <td>0</td>\n",
              "      <td>0</td>\n",
              "      <td>0</td>\n",
              "      <td>0</td>\n",
              "      <td>0</td>\n",
              "      <td>0</td>\n",
              "      <td>0</td>\n",
              "      <td>0</td>\n",
              "      <td>0</td>\n",
              "      <td>0</td>\n",
              "      <td>0</td>\n",
              "      <td>0</td>\n",
              "      <td>0</td>\n",
              "      <td>0</td>\n",
              "      <td>0</td>\n",
              "      <td>0</td>\n",
              "      <td>0</td>\n",
              "      <td>0</td>\n",
              "      <td>0</td>\n",
              "      <td>0</td>\n",
              "      <td>0</td>\n",
              "      <td>0</td>\n",
              "      <td>0</td>\n",
              "      <td>0</td>\n",
              "      <td>0</td>\n",
              "      <td>0</td>\n",
              "      <td>0</td>\n",
              "      <td>0</td>\n",
              "      <td>0</td>\n",
              "      <td>0</td>\n",
              "      <td>0</td>\n",
              "      <td>0</td>\n",
              "      <td>0</td>\n",
              "      <td>0</td>\n",
              "      <td>0</td>\n",
              "      <td>0</td>\n",
              "      <td>0</td>\n",
              "      <td>0</td>\n",
              "      <td>0</td>\n",
              "      <td>0</td>\n",
              "    </tr>\n",
              "    <tr>\n",
              "      <th>4</th>\n",
              "      <td>9</td>\n",
              "      <td>0</td>\n",
              "      <td>0</td>\n",
              "      <td>0</td>\n",
              "      <td>0</td>\n",
              "      <td>0</td>\n",
              "      <td>0</td>\n",
              "      <td>0</td>\n",
              "      <td>0</td>\n",
              "      <td>0</td>\n",
              "      <td>0</td>\n",
              "      <td>0</td>\n",
              "      <td>0</td>\n",
              "      <td>0</td>\n",
              "      <td>0</td>\n",
              "      <td>0</td>\n",
              "      <td>0</td>\n",
              "      <td>0</td>\n",
              "      <td>0</td>\n",
              "      <td>0</td>\n",
              "      <td>0</td>\n",
              "      <td>0</td>\n",
              "      <td>0</td>\n",
              "      <td>0</td>\n",
              "      <td>0</td>\n",
              "      <td>0</td>\n",
              "      <td>0</td>\n",
              "      <td>0</td>\n",
              "      <td>0</td>\n",
              "      <td>0</td>\n",
              "      <td>0</td>\n",
              "      <td>0</td>\n",
              "      <td>0</td>\n",
              "      <td>0</td>\n",
              "      <td>0</td>\n",
              "      <td>0</td>\n",
              "      <td>0</td>\n",
              "      <td>0</td>\n",
              "      <td>0</td>\n",
              "      <td>0</td>\n",
              "      <td>...</td>\n",
              "      <td>147</td>\n",
              "      <td>252</td>\n",
              "      <td>42</td>\n",
              "      <td>0</td>\n",
              "      <td>0</td>\n",
              "      <td>0</td>\n",
              "      <td>0</td>\n",
              "      <td>0</td>\n",
              "      <td>0</td>\n",
              "      <td>0</td>\n",
              "      <td>0</td>\n",
              "      <td>0</td>\n",
              "      <td>0</td>\n",
              "      <td>0</td>\n",
              "      <td>0</td>\n",
              "      <td>0</td>\n",
              "      <td>0</td>\n",
              "      <td>0</td>\n",
              "      <td>0</td>\n",
              "      <td>0</td>\n",
              "      <td>0</td>\n",
              "      <td>0</td>\n",
              "      <td>0</td>\n",
              "      <td>0</td>\n",
              "      <td>0</td>\n",
              "      <td>0</td>\n",
              "      <td>0</td>\n",
              "      <td>0</td>\n",
              "      <td>0</td>\n",
              "      <td>0</td>\n",
              "      <td>0</td>\n",
              "      <td>0</td>\n",
              "      <td>0</td>\n",
              "      <td>0</td>\n",
              "      <td>0</td>\n",
              "      <td>0</td>\n",
              "      <td>0</td>\n",
              "      <td>0</td>\n",
              "      <td>0</td>\n",
              "      <td>0</td>\n",
              "    </tr>\n",
              "  </tbody>\n",
              "</table>\n",
              "<p>5 rows × 785 columns</p>\n",
              "</div>\n",
              "      <button class=\"colab-df-convert\" onclick=\"convertToInteractive('df-dcfb49aa-437b-4f1d-9102-cbdbf1865f58')\"\n",
              "              title=\"Convert this dataframe to an interactive table.\"\n",
              "              style=\"display:none;\">\n",
              "        \n",
              "  <svg xmlns=\"http://www.w3.org/2000/svg\" height=\"24px\"viewBox=\"0 0 24 24\"\n",
              "       width=\"24px\">\n",
              "    <path d=\"M0 0h24v24H0V0z\" fill=\"none\"/>\n",
              "    <path d=\"M18.56 5.44l.94 2.06.94-2.06 2.06-.94-2.06-.94-.94-2.06-.94 2.06-2.06.94zm-11 1L8.5 8.5l.94-2.06 2.06-.94-2.06-.94L8.5 2.5l-.94 2.06-2.06.94zm10 10l.94 2.06.94-2.06 2.06-.94-2.06-.94-.94-2.06-.94 2.06-2.06.94z\"/><path d=\"M17.41 7.96l-1.37-1.37c-.4-.4-.92-.59-1.43-.59-.52 0-1.04.2-1.43.59L10.3 9.45l-7.72 7.72c-.78.78-.78 2.05 0 2.83L4 21.41c.39.39.9.59 1.41.59.51 0 1.02-.2 1.41-.59l7.78-7.78 2.81-2.81c.8-.78.8-2.07 0-2.86zM5.41 20L4 18.59l7.72-7.72 1.47 1.35L5.41 20z\"/>\n",
              "  </svg>\n",
              "      </button>\n",
              "      \n",
              "  <style>\n",
              "    .colab-df-container {\n",
              "      display:flex;\n",
              "      flex-wrap:wrap;\n",
              "      gap: 12px;\n",
              "    }\n",
              "\n",
              "    .colab-df-convert {\n",
              "      background-color: #E8F0FE;\n",
              "      border: none;\n",
              "      border-radius: 50%;\n",
              "      cursor: pointer;\n",
              "      display: none;\n",
              "      fill: #1967D2;\n",
              "      height: 32px;\n",
              "      padding: 0 0 0 0;\n",
              "      width: 32px;\n",
              "    }\n",
              "\n",
              "    .colab-df-convert:hover {\n",
              "      background-color: #E2EBFA;\n",
              "      box-shadow: 0px 1px 2px rgba(60, 64, 67, 0.3), 0px 1px 3px 1px rgba(60, 64, 67, 0.15);\n",
              "      fill: #174EA6;\n",
              "    }\n",
              "\n",
              "    [theme=dark] .colab-df-convert {\n",
              "      background-color: #3B4455;\n",
              "      fill: #D2E3FC;\n",
              "    }\n",
              "\n",
              "    [theme=dark] .colab-df-convert:hover {\n",
              "      background-color: #434B5C;\n",
              "      box-shadow: 0px 1px 3px 1px rgba(0, 0, 0, 0.15);\n",
              "      filter: drop-shadow(0px 1px 2px rgba(0, 0, 0, 0.3));\n",
              "      fill: #FFFFFF;\n",
              "    }\n",
              "  </style>\n",
              "\n",
              "      <script>\n",
              "        const buttonEl =\n",
              "          document.querySelector('#df-dcfb49aa-437b-4f1d-9102-cbdbf1865f58 button.colab-df-convert');\n",
              "        buttonEl.style.display =\n",
              "          google.colab.kernel.accessAllowed ? 'block' : 'none';\n",
              "\n",
              "        async function convertToInteractive(key) {\n",
              "          const element = document.querySelector('#df-dcfb49aa-437b-4f1d-9102-cbdbf1865f58');\n",
              "          const dataTable =\n",
              "            await google.colab.kernel.invokeFunction('convertToInteractive',\n",
              "                                                     [key], {});\n",
              "          if (!dataTable) return;\n",
              "\n",
              "          const docLinkHtml = 'Like what you see? Visit the ' +\n",
              "            '<a target=\"_blank\" href=https://colab.research.google.com/notebooks/data_table.ipynb>data table notebook</a>'\n",
              "            + ' to learn more about interactive tables.';\n",
              "          element.innerHTML = '';\n",
              "          dataTable['output_type'] = 'display_data';\n",
              "          await google.colab.output.renderOutput(dataTable, element);\n",
              "          const docLink = document.createElement('div');\n",
              "          docLink.innerHTML = docLinkHtml;\n",
              "          element.appendChild(docLink);\n",
              "        }\n",
              "      </script>\n",
              "    </div>\n",
              "  </div>\n",
              "  "
            ],
            "text/plain": [
              "   0    1    2    3    4    5    6    ...  778  779  780  781  782  783  784\n",
              "0    5    0    0    0    0    0    0  ...    0    0    0    0    0    0    0\n",
              "1    0    0    0    0    0    0    0  ...    0    0    0    0    0    0    0\n",
              "2    4    0    0    0    0    0    0  ...    0    0    0    0    0    0    0\n",
              "3    1    0    0    0    0    0    0  ...    0    0    0    0    0    0    0\n",
              "4    9    0    0    0    0    0    0  ...    0    0    0    0    0    0    0\n",
              "\n",
              "[5 rows x 785 columns]"
            ]
          },
          "metadata": {},
          "execution_count": 18
        }
      ]
    },
    {
      "cell_type": "code",
      "metadata": {
        "colab": {
          "base_uri": "https://localhost:8080/"
        },
        "id": "8LWzS25hd82p",
        "outputId": "c25f2806-066a-408d-a89a-72aca87209d7"
      },
      "source": [
        "df.info() # 데이터 프레임이 어떻게 구성되어 있는지 확인"
      ],
      "execution_count": null,
      "outputs": [
        {
          "output_type": "stream",
          "name": "stdout",
          "text": [
            "<class 'pandas.core.frame.DataFrame'>\n",
            "RangeIndex: 60000 entries, 0 to 59999\n",
            "Columns: 785 entries, 0 to 784\n",
            "dtypes: int64(785)\n",
            "memory usage: 359.3 MB\n"
          ]
        }
      ]
    },
    {
      "cell_type": "markdown",
      "metadata": {
        "id": "sQ8VVrCDggid"
      },
      "source": [
        "## matplotlib"
      ]
    },
    {
      "cell_type": "code",
      "metadata": {
        "id": "XWdsLd64gXIa"
      },
      "source": [
        "# import matplotlib to show img\n",
        "\n",
        "import matplotlib.pyplot as plt"
      ],
      "execution_count": null,
      "outputs": []
    },
    {
      "cell_type": "code",
      "metadata": {
        "colab": {
          "base_uri": "https://localhost:8080/",
          "height": 281
        },
        "id": "VG1e73chgxyf",
        "outputId": "e3714330-80f9-4e22-b8a4-25d3e53c987b"
      },
      "source": [
        "# allocate data from dataframe\n",
        "row=13\n",
        "data=df.iloc[row]\n",
        "\n",
        "\n",
        "# \"label\" is the first value\n",
        "label = data[0]\n",
        "\n",
        "# \"image data\" is the remaining 784 values\n",
        "img = data[1:].values.reshape(28,28)\n",
        "\n",
        "\n",
        "plt.title(\"label = \" + str(label))\n",
        "plt.imshow(img, interpolation ='none', cmap ='Blues')\n",
        "plt.show()"
      ],
      "execution_count": null,
      "outputs": [
        {
          "output_type": "display_data",
          "data": {
            "image/png": "[encoded data removed]",
            "text/plain": [
              "<Figure size 432x288 with 1 Axes>"
            ]
          },
          "metadata": {
            "needs_background": "light"
          }
        }
      ]
    },
    {
      "cell_type": "code",
      "metadata": {
        "id": "kHV57hp4g9N8"
      },
      "source": [
        "'''\n",
        "위에서 row 값을 바꿔가면서 어떤 이미지 데이터와 라벨이 들어있는지 확인할 수 있다\n",
        "'''"
      ],
      "execution_count": null,
      "outputs": []
    },
    {
      "cell_type": "markdown",
      "metadata": {
        "id": "k8tVsw9ejDtQ"
      },
      "source": [
        "## \b간단한 신경망 + 훈련 시각화"
      ]
    },
    {
      "cell_type": "markdown",
      "metadata": {
        "id": "ZFR_AJJ3iTU7"
      },
      "source": [
        "* **입력 레이어**$^{input-layer}$<br>\n",
        "  : **784개** 노드 (<= MNIST 입력 이미지가 28x28, 즉 784개의 픽셀로 이루어져 있기 때문)\n",
        "<br><br>\n",
        "* **은닉 레이어**$^{hidden-layer}$<br>\n",
        "  : 입력 레이어와 출력 레이어 사이에 존재하는 레이어.\n",
        "<br><br>\n",
        "* **출력 레이어**$^{output-layer}$<br>\n",
        "  : **10개** 노드 (<= 0~9까지의 숫자 중 하나로 결론)\n",
        "\n",
        "<br>\n",
        "<br>\n",
        "\n",
        "> ✅ <b>활성화 함수$^{activation-function}$<br></b>\n",
        ": 출력값을 활성화를 일으키게 할 것인가를 정하고 그 값을 부여하는 함수<br>\n",
        ": 종류 - Sigmoid, Step, ReLU\n",
        "<br><br>\n",
        "&nbsp;&nbsp;&nbsp;&nbsp;▶ 활성화 함수의 사용하는 이유?<br>\n",
        "  * 데이터를 비선형으로 바꾸기 위함.\n",
        "    * 왜 비선형으로 바꾸는가?<br>\n",
        "    &nbsp;&nbsp; : 선형 시스템은 간단하지만, 망이 깊어지지 않는 단점이 존재!<br>\n",
        "    &nbsp;&nbsp; : 신경망으로 설명해 보면 선형을 이용하여 아무리 복잡하게 만들고 싶어도 결국 수학적으로 hidden layer가 하나만 나옴.<br>\n",
        "    &nbsp;&nbsp; : 식으로 보면 상수인 a, b가 있고 변수인 x, y가 있을 때 아래와 같이 생각할 수 있음\n",
        "    &nbsp;&nbsp;&nbsp;&nbsp;$$f(ax+by)=af(x)+bf(y)$$\n",
        "\n",
        "> 🦋 Sigmoid 대신 ReLU를 사용하는 이유는?<br>\n",
        "  : 기울기 소실(Gradient Vanishing) 문제를 막기 위함."
      ]
    },
    {
      "cell_type": "code",
      "source": [
        "# Comparison of Sigmoid and ReLU\n",
        "\n",
        "import numpy as np\n",
        "import matplotlib.pyplot as plt\n",
        "\n",
        "def sigmoid(x):\n",
        "    return 1 / (1+np.exp(-x))\n",
        "\n",
        "def relu(x) : \n",
        "    return np.maximum(0, x)\n",
        "\n",
        "\n",
        "x = np.arange(-5.0,5.0,0.1)\n",
        "\n",
        "plt.subplot(221)\n",
        "plt.title(\"sigmoid\")\n",
        "plt.plot(x, sigmoid(x))\n",
        "\n",
        "plt.subplot(222)\n",
        "plt.title(\"relu\")\n",
        "plt.plot(x, relu(x))\n",
        "\n",
        "plt.ylim(-0.1,1.1)\n",
        "plt.show()\n"
      ],
      "metadata": {
        "colab": {
          "base_uri": "https://localhost:8080/",
          "height": 163
        },
        "id": "DwkG7PsZT1xA",
        "outputId": "4f8e4ea9-1112-4263-99d4-842c2c74e9c6"
      },
      "execution_count": 5,
      "outputs": [
        {
          "output_type": "display_data",
          "data": {
            "image/png": "[encoded data removed]",
            "text/plain": [
              "<Figure size 432x288 with 2 Axes>"
            ]
          },
          "metadata": {
            "needs_background": "light"
          }
        }
      ]
    },
    {
      "cell_type": "markdown",
      "source": [
        "\n",
        "> ✅ <b>완전 연결$^{fully-connected}$<br></b>\n",
        ":  한 레이어의 모든 노드가 다음 레이어의 모든 노드와 연결이 되어 있는 방식의 구성\n",
        " \n",
        "<br>\n",
        "\n",
        "> 🦋 hidden layer가 많다는 건 어떤 장점이 있을까?<br>\n",
        "* **매개 변수가 많이 필요가 없다.**\n",
        "  * layer가 깊어지면 같은 수준의 정확도의 layer를 구현하더라도 매개변수가 더 적게 필요하다\n",
        "* **필요한 연산의 수가 줄어든다.**\n",
        "  * Fiter의 크기를 줄이고, 망을 깊게 만들면 연산 횟수가 줄어들면서 정확도를 유지하는 결과를 낸다.\n",
        "<br>\n",
        "▶ 이렇게 layer가 <b>깊어질수록</b> 효과를 내기 때문에 <b>Deep Learning</b>이라고도 한다.<br>\n",
        "&nbsp;&nbsp;&nbsp;&nbsp;활성화 함수를 사용하면 입력이 들어갈때, 출력값이 선형으로 나오지 않기 때문에 망을 깊게 만들 수 있다.<br>\n",
        "&nbsp;&nbsp;&nbsp;&nbsp;반면, 선형시스템의 경우에는 망이 깊어지지 않으므로 망이 깊어지는 것에 대한 장점을 활용 할 수 없다. \n",
        "<br>"
      ],
      "metadata": {
        "id": "8IouGu0YT0Ye"
      }
    },
    {
      "cell_type": "markdown",
      "source": [
        "> ✅  **SGD$^{Stochastic-Gradient-Descent}$, 확률적 경사 하강법**<br><br>\n",
        ": GD$^{Gradient-Descent}$를 전체 데이터(Batch)가 아닌 **일부 데이터의 모음(Mini-Batch)**를 사용하는 방법<br>\n",
        ": BGD$^{Batch-Gradient-Descent}$는 하나의 Step을 위해 전체 데이터를 한번에 계산하므로 계산량이 많음<br>\n",
        ": SGD는 Mini-Batch를 사용하기 때문에 다소 부정확할 수 있지만 계산 속도가 훨씬 빠르기 때문에, 같은 시간에 더 많은 Step을 나아갈 수 있음.<br>\n",
        ": Local Minima에 빠지지 않고 Global Minima에 수렴할 가능성이 더 높음\n",
        "\n",
        "\n",
        "<br>\n",
        "<br>"
      ],
      "metadata": {
        "id": "LYh2rC7AV9VF"
      }
    },
    {
      "cell_type": "code",
      "metadata": {
        "id": "asiJYimZHWqz"
      },
      "source": [
        "import torch\n",
        "import torch.nn as nn"
      ],
      "execution_count": null,
      "outputs": []
    },
    {
      "cell_type": "markdown",
      "metadata": {
        "id": "B16KLVRrjWhE"
      },
      "source": [
        "\n",
        "어떠한 신경망을 만들든, 항상 파이토치의 <b>torch.nn</b>을 상속받아 <b>클래스</b>를 만들어야 함!<br>\n",
        "=> 이를 상속 받으면 자연스레 파이토치는 계산 그래프를 만들고, 훈련시 가중치를 조정하는 과정을 알아서 진행해 줌!\n"
      ]
    },
    {
      "cell_type": "code",
      "metadata": {
        "id": "o8hTJ9B3Xc3d"
      },
      "source": [
        "class Classifier(nn.Module): # inheritance\n",
        "\n",
        "\n",
        "    # Constructor\n",
        "    def __init__(self):\n",
        "\n",
        "        # 부모 클래스 초기화\n",
        "        super().__init__()\n",
        "\n",
        "        # 신경망 레이어 정의 - 통과시킬 레이어를 순서대로 기술\n",
        "        self.model = nn.Sequential(\n",
        "            nn.Linear(784, 200),    # Linear : 완전연결 매핑을 의미 => 여기에서는 훈련 시 노드를 업데이트할 가중치에 대한 정보도 포함되어 있음\n",
        "            nn.Sigmoid(),\n",
        "            nn.Linear(200, 10),     # Linear : ,,\n",
        "            nn.Sigmoid()\n",
        "        )\n",
        "\n",
        "        # Loss Function 설정\n",
        "        self.loss_function = nn.MSELoss()\n",
        "\n",
        "        # Optimizer 설정\n",
        "        self.optimizer = torch.optim.SGD(self.parameters(), lr=0.01)\n",
        "\n",
        "        # 훈련 시각화 (train 함수에서 사용될 변수 초기화)\n",
        "        self.counter = 0\n",
        "        self.progress = []\n",
        "\n",
        "\n",
        "\n",
        "    # forward function : 네트워크에 정보 전달\n",
        "    def forward(self, inputs):\n",
        "        # 모델 실행\n",
        "        return self.model(inputs)\n",
        "\n",
        "\n",
        "      \n",
        "    # train\n",
        "    def train(self, inputs, targets):\n",
        "        # inputs  : 신경망에 전달할 입력  \n",
        "        # targets : 원하는 목표 --> 이를 통해 손실을 계산\n",
        "\n",
        "        ### 신경망 출력 계산\n",
        "        outputs = self.forward(inputs)  # train 함수에서 가장 먼저 해야할 일! == forward()로 입력값을 신경망에 전달하여 결과를 얻어내는 것\n",
        "        \n",
        "        ### 손실 계산\n",
        "        loss = self.loss_function(outputs, targets)\n",
        "        #  계산 그래프의 마지막 노드는 손실함수!\n",
        "        #   => 손실 계산을 위해 각 노드에서 기울기가 변하는 것은 각 학습 파라미터가 변할 때마다 손실이 변하는 것과 같음\n",
        "        \n",
        "\n",
        "        ### 훈련 시각화 (모니터링)\n",
        "        # 카운터를 증가시키고 10회마다 오차 저장\n",
        "        self.counter += 1\n",
        "        if (self.counter % 10 == 0):\n",
        "            self.progress.append(loss.item()) # item() : 텐서에서 값을 꺼내오는 함수\n",
        "        if (self.counter % 10000 == 0):\n",
        "            print(\"counter = \", self.counter)\n",
        "\n",
        "\n",
        "        ### 손실을 사용해 네트워크의 가중치를 업데이트\n",
        "        # 기울기 초기화\n",
        "        self.optimizer.zero_grad()  # 계산 그래프의 기울기가 모두 0으로 초기화\n",
        "                                    #   : 신경망을 훈련할 때마다 매번 기울기는 0으로 설정되어 있어야 함\n",
        "                                    #      => 그렇게 하지 않으면 loss.backward()를 따라 계산마다 쌓이게 됨\n",
        "        # 역전파 실행\n",
        "        loss.backward()\n",
        "        # 가중치 갱신\n",
        "        self.optimizer.step()\n",
        "\n",
        "\n",
        "  \n",
        "    def plot_progress(self):\n",
        "        df = pandas.DataFrame(self.progress, columns=['loss'])\n",
        "        df.plot(ylim=(0, 1.0), figsize=(16,8), alpha=0.1, marker='.', grid=True, yticks=(0, 0.25, 0.5))\n",
        "    "
      ],
      "execution_count": null,
      "outputs": []
    },
    {
      "cell_type": "markdown",
      "source": [
        "<br>\n",
        "\n",
        "✅ **nn.Linear**\n",
        "\n",
        "  : 완전연결 매핑을 의미.<br>\n",
        "  : 훈련 시 노드를 업데이트할 가중치에 대한 정보 포함.<br>\n",
        "  : 입력부터 츨력이 $Wx+B$와 같은 선형함수$^{Linear-Function}$ 형태로 전달됨.<br>\n",
        "  &nbsp;&nbsp;&nbsp;&nbsp; ↪ 여기서, $W$는 가중치$^{Weight}$, $B$는 편향$^{Bias}$임.<br>\n",
        "  &nbsp;&nbsp;&nbsp;&nbsp;&nbsp;&nbsp;&nbsp;&nbsp;&nbsp; 두가지 파라미터 모두 훈련 중에 업데이트되므로, **학습 파라미터$^{learnable-parameter}$**라고 부름!\n",
        "\n",
        "\n",
        "```\n",
        "# 신경망 구조 정의\n",
        "self.model = nn.Sequential(\n",
        "            nn.Linear(784, 200),  \n",
        "            nn.Sigmoid(),\n",
        "            nn.Linear(200, 10),\n",
        "            nn.Sigmoid()\n",
        "        )\n",
        "```\n",
        "\n",
        "<br>\n",
        "\n",
        "✅ **nn.MSELoss**\n",
        "\n",
        "  : 평균제곱오차 = MSE$^{mean-squared-error}$<br>\n",
        "  : 실제와 예측된 결과 사이의 차이를 계산해 제곱하여, 그 평균을 계산하는 방법<br>\n",
        "```\n",
        "# 손실함수 설정\n",
        "self.loss_function = nn.MSELoss()\n",
        "```\n",
        "\n",
        "<br>\n",
        "\n",
        "✅ **torch.optim.SGD**\n",
        "\n",
        "  : 확률적 경사하강법 = SGD$^{stochastic-gradient-descent}$<br>\n",
        "  : 손실을 이용해서 네트워크의 가중치를 수정하는 방법<br>\n",
        "  : 학습률 값 설정해야 함<br>\n",
        "  : 파이토치가 제공하는 **self.parameters()**를 통해 학습파라미터에 접근 가능.\n",
        "```\n",
        "# SGD 옵티마이저 설정\n",
        "self.optimizer = torch.optim.SGD(self.parameters(), lr=0.01)\n",
        "```\n",
        "\n",
        "<br>\n",
        "\n",
        "✅ **forward()**\n",
        "\n",
        "  : **nn.Sequential()**로 정의한 **self.model**에 input값을 전달한 후 모델의 결과를 반환.<br>\n",
        "```\n",
        "# forward() : 모델 실행\n",
        "def forward(self, inputs):\n",
        "    return self.model(inputs)\n",
        "```\n",
        "\n",
        "<br>\n",
        "\n",
        "🦋 **item()**\n",
        "\n",
        "  : 텐서에서 값을 꺼내오는 함수<br>"
      ],
      "metadata": {
        "id": "pEoeSSwRg00C"
      }
    },
    {
      "cell_type": "markdown",
      "metadata": {
        "id": "VB_7dzRgIGEP"
      },
      "source": [
        "---\n",
        "\n",
        "## **Summary**<br>\n",
        ">* 신경망 클래스를 하나 만들어서 **nn.Module**로부터 상속.(nn.Module은 신경망을 만드는 데 필요한 많은 일을 대신 해줌)\n",
        "* 신경망에서 작동할 여러요소들을 정의함. 간단한 신경망이므로 **nn.Sequential**을 사용함.\n",
        "* **학습 파라미터**를 업데이트하기 위해 **Optimizer**와 **Loss function**를 정의함.\n",
        "* 마지막으로 **forward()** 함수를 구현해 파이토치에서 정보가 네트워크를 타고 흐를 수 있도록 함.\n",
        "<br>\n",
        "<br>\n",
        "* 계산 그래프의 기울기는 **optimizer.zero_grad()**를 통해 모두 0을 초기화됨.\n",
        "* 신경망의 기울기는 손실함수의 **loss.backward()**를 통해 계산됨.\n",
        "* 이 기울기는 **optimizer.step()**을 통해 신경망 학습의 학습 파라미터를 갱신하는 데 이용됨.\n",
        "\n",
        "<br>\n",
        "\n",
        "---"
      ]
    },
    {
      "cell_type": "markdown",
      "metadata": {
        "id": "Co16z-tjOGzn"
      },
      "source": [
        "## MNIST 데이터셋 클래스"
      ]
    },
    {
      "cell_type": "markdown",
      "metadata": {
        "id": "JhoJi8FoO6am"
      },
      "source": [
        "▶ 파이토치는 **torch.utils.data.DataLoader**를 통해 데이터를 셔플하거나, 병렬로 데이터를 부르거나, 배치 작업하는 것 등의 작업을 수행<br>\n",
        "▶ 개발자는 **torch.utils.data.DataSet** 객체로 이러한 기능을 간편하게 사용할 수 있음."
      ]
    },
    {
      "cell_type": "markdown",
      "metadata": {
        "id": "oFZh5V1zPZsX"
      },
      "source": [
        "DataSet 클래스에서 데이터셋을 상속받을 때는 다음 두가지의 특수 메서드를 구현해야 함.\n",
        "\n",
        "* **\\_\\_len__()** : 데이터셋의 길이를 반환\n",
        "* **\\_\\_getitem__()** : 데이터셋의 n번째 아이템을 반환"
      ]
    },
    {
      "cell_type": "code",
      "metadata": {
        "id": "ooaIEj1xQHj2"
      },
      "source": [
        "from torch.utils.data import Dataset\n",
        "\n",
        "import matplotlib.pyplot as plt"
      ],
      "execution_count": null,
      "outputs": []
    },
    {
      "cell_type": "code",
      "metadata": {
        "id": "IrM3rduaP_gI"
      },
      "source": [
        "# MNIST DATASET CLASS\n",
        "\n",
        "class MnistDataset(Dataset):\n",
        "\n",
        "  # Constructor\n",
        "  def __init__(self, csv_file):\n",
        "    # csv_file 읽어오기\n",
        "    self.data_df = pandas.read_csv(csv_file, header=None)\n",
        "\n",
        "\n",
        "  def __len__(self):\n",
        "    # 데이터 프레임의 길이 반환\n",
        "    return len(self.data_df)\n",
        "\n",
        "\n",
        "  # 특정 아이템을 인덱스를 통해 접근가능한 함수\n",
        "  def __getitem__(self,index):\n",
        "    # 이미지 (목표)레이블\n",
        "    label = self.data_df.iloc[index,0]  # 각 행의 첫번째 인덱스, 즉 정답레이블을 읽어옴.(정답은 0~9까지 존재)\n",
        "    target = torch.zeros((10))          # target이란 \"정답\" 종이 만들기\n",
        "    target[label] = 1.0                 # 정답 레이블의 위치에만 1로 지정. 나머지는 0 (원-핫 인코딩 방식)\n",
        "\n",
        "    # 0 - 255의 이미지를 0 - 1로 정규화\n",
        "    image_values = torch.FloatTensor(self.data_df.iloc[index,1:].values)/255.0\n",
        "\n",
        "    # 레이블, 이미지 데이터 텐서, 목표 텐서 반환\n",
        "    return label, image_values, target\n",
        "\n",
        "\n",
        "\n",
        "  # MNIST 데이터셋 내의 특정 이미지를 골라 차트를 그려보는 메서드\n",
        "  def plot_image(self, index):\n",
        "    img = self.data_df.iloc[index,1:].values.reshape(28,28) # 2D로 변형\n",
        "    plt.title(\"label = \" + str(self.data_df.iloc[index,0])) # 정답레이블 제목으로 붙이기\n",
        "    plt.imshow(img, interpolation='none', cmap = 'Blues')   # 나타내기\n"
      ],
      "execution_count": null,
      "outputs": []
    },
    {
      "cell_type": "markdown",
      "metadata": {
        "id": "l37paAuxRzNh"
      },
      "source": [
        "위 클래스로부터 객체 하나가 생성될 때,<br>\n",
        "csv_file이 하나 읽어들여지고 data_df라는 팬더스 데이터프레임으로 할당된다!"
      ]
    },
    {
      "cell_type": "markdown",
      "metadata": {
        "id": "R-ZbJiynSB9X"
      },
      "source": [
        "이제 작업 중인 데이터를 확인해보자!\n",
        "\n",
        "먼저, 데이터셋 클래스에서 객체를 하나 만들며 CSV 파일의 경로명을 인수로 넣어준다!\n"
      ]
    },
    {
      "cell_type": "code",
      "metadata": {
        "id": "FPPRkkCOVnfa"
      },
      "source": [
        "mnist_dataset = MnistDataset(\"mount/My Drive/Colab Notebooks/make-your-firstGAN-with-pytorch/mnist_data/mnist_train.csv\")"
      ],
      "execution_count": null,
      "outputs": []
    },
    {
      "cell_type": "code",
      "metadata": {
        "colab": {
          "base_uri": "https://localhost:8080/",
          "height": 281
        },
        "id": "pZR5HY22WIcO",
        "outputId": "b5d3dfc0-8b7a-45d3-a052-e4a119451380"
      },
      "source": [
        "mnist_dataset.plot_image(9)"
      ],
      "execution_count": null,
      "outputs": [
        {
          "output_type": "display_data",
          "data": {
            "image/png": "[encoded data removed]",
            "text/plain": [
              "<Figure size 432x288 with 1 Axes>"
            ]
          },
          "metadata": {
            "needs_background": "light"
          }
        }
      ]
    },
    {
      "cell_type": "code",
      "metadata": {
        "colab": {
          "base_uri": "https://localhost:8080/"
        },
        "id": "QtGwGC7-WOPb",
        "outputId": "f301749b-10e1-461a-8f06-a0a11a4f62e3"
      },
      "source": [
        "# 객체에 인덱스로도 접근 가능\n",
        "# __getitem__()함수\n",
        "#           반환 항목 : label         (= 정답인 숫자)\n",
        "#                     image_values  (= 784개의 정규화된 각 픽셀밝기)\n",
        "#                     target        (= 정답표)\n",
        "\n",
        "mnist_dataset[100]"
      ],
      "execution_count": null,
      "outputs": [
        {
          "output_type": "execute_result",
          "data": {
            "text/plain": [
              "(5,\n",
              " tensor([0.0000, 0.0000, 0.0000, 0.0000, 0.0000, 0.0000, 0.0000, 0.0000, 0.0000,\n",
              "         0.0000, 0.0000, 0.0000, 0.0000, 0.0000, 0.0000, 0.0000, 0.0000, 0.0000,\n",
              "         0.0000, 0.0000, 0.0000, 0.0000, 0.0000, 0.0000, 0.0000, 0.0000, 0.0000,\n",
              "         0.0000, 0.0000, 0.0000, 0.0000, 0.0000, 0.0000, 0.0000, 0.0000, 0.0000,\n",
              "         0.0000, 0.0000, 0.0000, 0.0000, 0.0000, 0.0000, 0.0000, 0.0000, 0.0000,\n",
              "         0.0000, 0.0000, 0.0000, 0.0000, 0.0000, 0.0000, 0.0000, 0.0000, 0.0000,\n",
              "         0.0000, 0.0000, 0.0000, 0.0000, 0.0000, 0.0000, 0.0000, 0.0000, 0.0000,\n",
              "         0.0000, 0.0000, 0.0000, 0.0000, 0.0000, 0.0000, 0.0000, 0.0000, 0.0000,\n",
              "         0.0000, 0.0000, 0.0000, 0.0000, 0.0000, 0.0000, 0.0000, 0.0000, 0.0000,\n",
              "         0.0000, 0.0000, 0.0000, 0.0000, 0.0000, 0.0000, 0.0000, 0.0000, 0.0000,\n",
              "         0.0000, 0.0000, 0.0000, 0.0000, 0.0000, 0.0000, 0.0000, 0.0000, 0.0000,\n",
              "         0.0000, 0.0000, 0.0000, 0.0000, 0.0000, 0.0000, 0.0000, 0.0000, 0.0000,\n",
              "         0.0000, 0.0000, 0.0000, 0.0000, 0.0000, 0.0000, 0.0000, 0.0000, 0.0000,\n",
              "         0.0000, 0.0000, 0.0000, 0.0000, 0.0000, 0.0000, 0.0000, 0.0000, 0.0000,\n",
              "         0.0000, 0.0000, 0.0000, 0.0000, 0.0000, 0.0000, 0.0000, 0.0000, 0.0000,\n",
              "         0.0000, 0.0000, 0.0000, 0.0000, 0.0000, 0.0000, 0.0000, 0.0000, 0.0000,\n",
              "         0.0000, 0.0000, 0.0000, 0.0000, 0.0000, 0.0000, 0.0000, 0.0000, 0.0000,\n",
              "         0.0000, 0.0000, 0.0000, 0.0000, 0.0000, 0.0000, 0.0000, 0.0000, 0.0000,\n",
              "         0.0000, 0.0000, 0.0000, 0.0000, 0.0000, 0.0000, 0.0000, 0.0000, 0.0000,\n",
              "         0.0000, 0.0000, 0.0000, 0.0000, 0.0000, 0.0000, 0.0000, 0.0000, 0.0000,\n",
              "         0.0000, 0.0078, 0.0706, 0.1804, 0.5333, 0.5333, 0.9569, 1.0000, 0.9451,\n",
              "         0.4039, 0.0000, 0.0000, 0.0000, 0.0000, 0.0000, 0.0000, 0.0000, 0.0000,\n",
              "         0.0000, 0.0000, 0.0000, 0.0000, 0.0000, 0.0000, 0.0000, 0.0000, 0.0000,\n",
              "         0.0588, 0.3686, 0.6392, 0.9922, 0.9922, 0.9922, 0.9922, 0.9333, 0.8549,\n",
              "         0.8000, 0.1373, 0.0000, 0.0000, 0.0000, 0.0000, 0.0000, 0.0000, 0.0000,\n",
              "         0.0000, 0.0000, 0.0000, 0.0000, 0.0000, 0.0000, 0.0000, 0.0000, 0.0000,\n",
              "         0.0000, 0.5137, 0.9922, 0.9922, 0.9922, 0.9922, 0.9294, 0.7843, 0.2235,\n",
              "         0.0000, 0.0000, 0.0000, 0.0000, 0.0000, 0.0000, 0.0000, 0.0000, 0.0000,\n",
              "         0.0000, 0.0000, 0.0000, 0.0000, 0.0000, 0.0000, 0.0000, 0.0000, 0.0000,\n",
              "         0.0000, 0.6078, 0.9647, 0.9922, 0.9686, 0.4235, 0.2549, 0.1765, 0.0000,\n",
              "         0.0000, 0.0000, 0.0000, 0.0000, 0.0000, 0.0000, 0.0000, 0.0000, 0.0000,\n",
              "         0.0000, 0.0000, 0.0000, 0.0000, 0.0000, 0.0000, 0.0000, 0.0000, 0.0000,\n",
              "         0.0000, 0.0000, 0.8118, 0.9922, 0.9922, 0.9020, 0.0000, 0.0000, 0.0000,\n",
              "         0.0000, 0.0000, 0.0000, 0.0000, 0.0000, 0.0000, 0.0000, 0.0000, 0.0000,\n",
              "         0.0000, 0.0000, 0.0000, 0.0000, 0.0000, 0.0000, 0.0000, 0.0000, 0.0000,\n",
              "         0.0000, 0.0000, 0.0000, 0.6157, 0.9922, 0.9922, 0.4902, 0.0000, 0.0000,\n",
              "         0.0000, 0.0000, 0.0000, 0.0000, 0.0000, 0.0000, 0.0000, 0.0000, 0.0000,\n",
              "         0.0000, 0.0000, 0.0000, 0.0000, 0.0000, 0.0000, 0.0000, 0.0000, 0.0000,\n",
              "         0.0000, 0.0000, 0.0000, 0.0000, 0.3490, 0.9922, 0.9804, 0.2235, 0.0000,\n",
              "         0.0000, 0.0000, 0.0000, 0.0000, 0.0000, 0.0000, 0.0000, 0.0000, 0.0000,\n",
              "         0.0000, 0.0000, 0.0000, 0.0000, 0.0000, 0.0000, 0.0000, 0.0000, 0.0000,\n",
              "         0.0000, 0.0000, 0.0000, 0.0000, 0.0000, 0.3490, 0.9922, 0.9686, 0.0000,\n",
              "         0.0000, 0.0000, 0.0000, 0.0000, 0.0000, 0.0000, 0.0000, 0.0000, 0.0000,\n",
              "         0.0000, 0.0000, 0.0000, 0.0000, 0.0000, 0.0000, 0.0000, 0.0000, 0.0000,\n",
              "         0.0000, 0.0000, 0.0000, 0.0000, 0.0000, 0.0000, 0.3490, 0.9922, 0.9686,\n",
              "         0.0000, 0.0000, 0.0000, 0.0000, 0.0000, 0.0000, 0.0000, 0.0000, 0.0000,\n",
              "         0.0000, 0.0000, 0.0000, 0.0000, 0.0000, 0.0000, 0.0000, 0.0000, 0.0000,\n",
              "         0.0000, 0.0000, 0.0000, 0.0000, 0.0000, 0.0000, 0.0000, 0.3490, 0.9922,\n",
              "         0.9686, 0.0000, 0.0000, 0.0000, 0.0000, 0.0000, 0.0000, 0.0000, 0.0000,\n",
              "         0.0000, 0.0000, 0.0000, 0.0000, 0.0000, 0.0000, 0.0000, 0.0000, 0.0000,\n",
              "         0.0000, 0.0000, 0.0000, 0.0000, 0.0000, 0.0000, 0.0000, 0.0000, 0.0824,\n",
              "         0.9059, 0.9765, 0.1333, 0.0000, 0.0000, 0.0000, 0.0000, 0.0000, 0.0000,\n",
              "         0.0000, 0.0000, 0.0000, 0.0000, 0.0000, 0.0000, 0.0000, 0.0000, 0.0000,\n",
              "         0.0000, 0.0000, 0.0000, 0.0000, 0.0000, 0.0000, 0.0000, 0.0000, 0.0000,\n",
              "         0.0000, 0.8824, 0.9922, 0.9059, 0.8353, 0.8353, 0.4824, 0.0627, 0.0000,\n",
              "         0.0000, 0.0000, 0.0000, 0.0000, 0.0000, 0.0000, 0.0000, 0.0000, 0.0000,\n",
              "         0.0000, 0.0000, 0.0000, 0.0000, 0.0000, 0.0000, 0.0000, 0.0000, 0.0000,\n",
              "         0.0000, 0.0000, 0.6745, 0.9922, 0.9922, 0.9922, 0.9922, 0.9922, 0.7451,\n",
              "         0.2471, 0.0000, 0.0000, 0.0000, 0.0000, 0.0000, 0.0000, 0.0000, 0.0000,\n",
              "         0.0000, 0.0000, 0.0000, 0.0000, 0.0000, 0.0000, 0.0000, 0.0000, 0.0000,\n",
              "         0.0000, 0.0000, 0.0000, 0.0078, 0.4549, 0.2824, 0.4863, 0.8196, 0.9922,\n",
              "         0.9922, 0.5529, 0.0000, 0.0000, 0.0000, 0.0000, 0.0000, 0.0000, 0.0000,\n",
              "         0.0000, 0.0000, 0.0000, 0.0000, 0.0000, 0.0000, 0.0000, 0.0000, 0.0000,\n",
              "         0.0000, 0.0000, 0.0000, 0.0000, 0.0000, 0.0000, 0.0000, 0.0000, 0.0980,\n",
              "         0.8588, 0.9922, 0.8078, 0.0118, 0.0000, 0.0000, 0.0000, 0.0000, 0.0000,\n",
              "         0.0000, 0.0000, 0.0000, 0.0000, 0.0000, 0.0000, 0.0000, 0.0000, 0.0000,\n",
              "         0.0000, 0.0000, 0.0000, 0.0000, 0.0000, 0.0000, 0.0000, 0.0000, 0.0000,\n",
              "         0.0000, 0.4078, 0.9647, 0.9922, 0.0196, 0.0000, 0.0000, 0.0000, 0.0000,\n",
              "         0.0000, 0.0000, 0.0000, 0.0000, 0.0000, 0.0000, 0.0000, 0.0000, 0.0000,\n",
              "         0.0000, 0.0000, 0.0000, 0.0000, 0.0000, 0.0000, 0.0000, 0.0000, 0.0000,\n",
              "         0.0000, 0.0000, 0.0000, 0.8353, 0.9922, 0.0196, 0.0000, 0.0000, 0.0000,\n",
              "         0.0000, 0.0000, 0.0000, 0.0000, 0.0000, 0.0000, 0.0000, 0.0000, 0.0000,\n",
              "         0.0000, 0.0000, 0.0000, 0.0000, 0.0000, 0.0000, 0.0000, 0.0000, 0.0000,\n",
              "         0.0000, 0.0000, 0.0000, 0.1020, 0.8863, 0.9922, 0.0196, 0.0000, 0.0000,\n",
              "         0.0000, 0.0000, 0.0000, 0.0000, 0.0000, 0.0000, 0.0000, 0.0000, 0.0000,\n",
              "         0.0000, 0.0000, 0.0000, 0.0000, 0.0000, 0.0000, 0.0000, 0.0000, 0.0000,\n",
              "         0.0000, 0.0000, 0.0000, 0.0000, 0.5176, 0.9922, 0.8196, 0.0118, 0.0000,\n",
              "         0.0000, 0.0000, 0.0000, 0.0000, 0.0000, 0.0000, 0.0000, 0.0000, 0.0000,\n",
              "         0.0000, 0.0000, 0.0000, 0.0000, 0.0000, 0.0000, 0.0000, 0.0000, 0.0000,\n",
              "         0.0000, 0.0000, 0.0000, 0.0000, 0.0000, 0.3059, 0.9922, 0.3373, 0.0000,\n",
              "         0.0000, 0.0000, 0.0000, 0.0000, 0.0000, 0.0000, 0.0000, 0.0000, 0.0000,\n",
              "         0.0000, 0.0000, 0.0000, 0.0000, 0.0000, 0.0000, 0.0000, 0.0000, 0.0000,\n",
              "         0.0000, 0.0000, 0.0000, 0.0000, 0.0000, 0.0000, 0.0000, 0.0000, 0.0000,\n",
              "         0.0000, 0.0000, 0.0000, 0.0000, 0.0000, 0.0000, 0.0000, 0.0000, 0.0000,\n",
              "         0.0000, 0.0000, 0.0000, 0.0000, 0.0000, 0.0000, 0.0000, 0.0000, 0.0000,\n",
              "         0.0000, 0.0000, 0.0000, 0.0000, 0.0000, 0.0000, 0.0000, 0.0000, 0.0000,\n",
              "         0.0000, 0.0000, 0.0000, 0.0000, 0.0000, 0.0000, 0.0000, 0.0000, 0.0000,\n",
              "         0.0000]),\n",
              " tensor([0., 0., 0., 0., 0., 1., 0., 0., 0., 0.]))"
            ]
          },
          "metadata": {},
          "execution_count": 19
        }
      ]
    },
    {
      "cell_type": "markdown",
      "metadata": {
        "id": "HMCGAHwwWVv4"
      },
      "source": [
        "## 분류기(Classifier) 훈련시키기"
      ]
    },
    {
      "cell_type": "code",
      "metadata": {
        "colab": {
          "base_uri": "https://localhost:8080/"
        },
        "id": "4A-sSOpzapVc",
        "outputId": "188a7672-4ee6-42d2-846d-3a97529ebccb"
      },
      "source": [
        "%%time\n",
        "\n",
        "# 신경망 생성\n",
        "C = Classifier()\n",
        "\n",
        "\n",
        "# MNIST 데이터에 대해 훈련 진행\n",
        "epochs = 3\n",
        "\n",
        "for i in range(epochs):\n",
        "  print('training epoch', i+1, 'of', epochs)\n",
        "  for label, image_data_tensor, target_tensor in mnist_dataset:\n",
        "    C.train(image_data_tensor, target_tensor)"
      ],
      "execution_count": null,
      "outputs": [
        {
          "output_type": "stream",
          "name": "stdout",
          "text": [
            "training epoch 1 of 3\n",
            "counter =  10000\n",
            "counter =  20000\n",
            "counter =  30000\n",
            "counter =  40000\n",
            "counter =  50000\n",
            "counter =  60000\n",
            "training epoch 2 of 3\n",
            "counter =  70000\n",
            "counter =  80000\n",
            "counter =  90000\n",
            "counter =  100000\n",
            "counter =  110000\n",
            "counter =  120000\n",
            "training epoch 3 of 3\n",
            "counter =  130000\n",
            "counter =  140000\n",
            "counter =  150000\n",
            "counter =  160000\n",
            "counter =  170000\n",
            "counter =  180000\n",
            "CPU times: user 3min 10s, sys: 1.73 s, total: 3min 12s\n",
            "Wall time: 3min 12s\n"
          ]
        }
      ]
    },
    {
      "cell_type": "code",
      "metadata": {
        "id": "XdJ69cpgc7gK",
        "colab": {
          "base_uri": "https://localhost:8080/",
          "height": 483
        },
        "outputId": "16e30dee-c156-485f-9db4-6824dc23fa79"
      },
      "source": [
        "C.plot_progress()"
      ],
      "execution_count": null,
      "outputs": [
        {
          "output_type": "display_data",
          "data": {
            "image/png": "[encoded data removed]",
            "text/plain": [
              "<Figure size 1152x576 with 1 Axes>"
            ]
          },
          "metadata": {
            "tags": [],
            "needs_background": "light"
          }
        }
      ]
    },
    {
      "cell_type": "markdown",
      "metadata": {
        "id": "sU5aeKpYdTiF"
      },
      "source": [
        "## 신경망에 쿼리하기"
      ]
    },
    {
      "cell_type": "code",
      "metadata": {
        "id": "EYmNVyMqdmBb"
      },
      "source": [
        "# Load MNIST Test Data\n",
        "\n",
        "mnist_test_dataset = MnistDataset(\"mount/My Drive/Colab Notebooks/make-your-firstGAN-with-pytorch/mnist_data/mnist_test.csv\")"
      ],
      "execution_count": null,
      "outputs": []
    },
    {
      "cell_type": "code",
      "metadata": {
        "colab": {
          "base_uri": "https://localhost:8080/",
          "height": 281
        },
        "id": "OYPvYPMGd6jG",
        "outputId": "0e091dba-a1f4-44fe-f7db-87848c02ca10"
      },
      "source": [
        "# Pick a record\n",
        "record = 19\n",
        "\n",
        "# Plot 'image' and 'correct label'\n",
        "mnist_test_dataset.plot_image(record)"
      ],
      "execution_count": null,
      "outputs": [
        {
          "output_type": "display_data",
          "data": {
            "image/png": "[encoded data removed]",
            "text/plain": [
              "<Figure size 432x288 with 1 Axes>"
            ]
          },
          "metadata": {
            "needs_background": "light"
          }
        }
      ]
    },
    {
      "cell_type": "code",
      "metadata": {
        "id": "aTFe4j7JeCuJ",
        "colab": {
          "base_uri": "https://localhost:8080/",
          "height": 284
        },
        "outputId": "310c2dfd-73d8-4c63-a355-9fb0a519f29d"
      },
      "source": [
        "# visualize the answer given by the neural network #\n",
        "\n",
        "image_data = mnist_test_dataset[record][1] # index 19의 레코드에서 이미지 픽셀값들을 추출하여 image_data에 저장\n",
        "\n",
        "# query form trained network\n",
        "output = C.forward(image_data)\n",
        "\n",
        "# plot output tensor\n",
        "pandas.DataFrame(output.detach().numpy()).plot(kind='bar', legend='False', ylim=(0,1))\n",
        "'''\n",
        "출력 output을 단순한 넘파이 배열로 변환한 후\n",
        "다시 데이터프레임으로 래핑해서\n",
        "막대도표로 표현함!\n",
        "'''"
      ],
      "execution_count": null,
      "outputs": [
        {
          "output_type": "execute_result",
          "data": {
            "application/vnd.google.colaboratory.intrinsic+json": {
              "type": "string"
            },
            "text/plain": [
              "'\\n출력 output을 단순한 넘파이 배열로 변환한 후\\n다시 데이터프레임으로 래핑해서\\n막대도표로 표현함!\\n'"
            ]
          },
          "metadata": {},
          "execution_count": 26
        },
        {
          "output_type": "display_data",
          "data": {
            "image/png": "[encoded data removed]",
            "text/plain": [
              "<Figure size 432x288 with 1 Axes>"
            ]
          },
          "metadata": {
            "needs_background": "light"
          }
        }
      ]
    },
    {
      "cell_type": "markdown",
      "metadata": {
        "id": "CEB8kjq58UmZ"
      },
      "source": [
        "## 분류기의 성능"
      ]
    },
    {
      "cell_type": "code",
      "metadata": {
        "colab": {
          "base_uri": "https://localhost:8080/"
        },
        "id": "YYA7CPyd-PMy",
        "outputId": "b613f312-c6c8-4275-ae4e-71f021fa75d8"
      },
      "source": [
        "# TEST trained neural network on training data\n",
        "\n",
        "score=0\n",
        "items=0\n",
        "\n",
        "for label, image_data_tensor, target_tensor in mnist_test_dataset:\n",
        "  answer = C.forward(image_data_tensor).detach().numpy()\n",
        "\n",
        "  if (answer.argmax() == label):\n",
        "    score += 1\n",
        "  items+=1\n",
        "\n",
        "print(score, items, score/items)"
      ],
      "execution_count": null,
      "outputs": [
        {
          "output_type": "stream",
          "name": "stdout",
          "text": [
            "8662 10000 0.8662\n"
          ]
        }
      ]
    },
    {
      "cell_type": "markdown",
      "source": [
        "\n",
        "<br>\n",
        "\n",
        "### [+]\n",
        "> 출력층에서의 신호전달 출력층의 활성화 함수는 풀고자하는 문제의 성질에 맞게 결정함.\n",
        "* 회귀 - 항등함수\n",
        "* 2클래스 분류 - 시그모이드 함수\n",
        "* 다중클래스 분류 - 소프트 맥스 함수\n",
        "\n",
        "\n",
        "> ✅ 회귀$^{regression}$<br>\n",
        ": 입력 데이터에서 (연속적인) 수치를 예측하는 문제<br>\n",
        "&nbsp;&nbsp;&nbsp;&nbsp;ex) 사진 속 인물의 몸무게 예측<br>\n",
        "<br>\n",
        " ✅ 분류$^{classification}$<br>\n",
        ": 데이터가 어느 클래스에 속하느냐는 문제<br>\n",
        "&nbsp;&nbsp;&nbsp;&nbsp;ex) 사진 속 인물의 성별 분류"
      ],
      "metadata": {
        "id": "56Yk9Qy_ffsJ"
      }
    }
  ]
}