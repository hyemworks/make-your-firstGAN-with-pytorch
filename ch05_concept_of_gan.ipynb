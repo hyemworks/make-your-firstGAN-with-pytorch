{
  "nbformat": 4,
  "nbformat_minor": 0,
  "metadata": {
    "colab": {
      "name": "ch05-concept-of-gan.ipynb",
      "provenance": [],
      "collapsed_sections": [],
      "toc_visible": true,
      "authorship_tag": "ABX9TyMSSDrf+FeLfaGQB9sNB8FB",
      "include_colab_link": true
    },
    "kernelspec": {
      "name": "python3",
      "display_name": "Python 3"
    },
    "language_info": {
      "name": "python"
    },
    "accelerator": "GPU"
  },
  "cells": [
    {
      "cell_type": "markdown",
      "metadata": {
        "id": "view-in-github",
        "colab_type": "text"
      },
      "source": [
        "<a href=\"https://colab.research.google.com/github/hyemworks/make-your-firstGAN-with-pytorch/blob/main/ch05_concept_of_gan.ipynb\" target=\"_parent\"><img src=\"https://colab.research.google.com/assets/colab-badge.svg\" alt=\"Open In Colab\"/></a>"
      ]
    },
    {
      "cell_type": "markdown",
      "metadata": {
        "id": "dbMFrDl4kCqW"
      },
      "source": [
        "# **CHAPTER 05 &nbsp;&nbsp;&nbsp;&nbsp;Concept of GAN**"
      ]
    },
    {
      "cell_type": "markdown",
      "metadata": {
        "id": "wBbFpe1ykJqm"
      },
      "source": [
        "## 이미지 생성하기\n",
        "\n",
        "\n",
        "✅ Backquery 역질의<br>\n",
        ": 신경망을 반대로 뒤집어, 네트워크가 데이터를 스스로 생성하는 형태<br>\n",
        ": 예를 들어, 하나의 숫자를 표현하는 원핫 인코딩 벡터를 훈련된 네트워크에 넣어서 숫자에 맞는 이상적인 이미지를 거꾸로 만들어내는 것\n",
        "\n",
        "<br>\n",
        "\n",
        "▶ Backquery를 통해 만들어진 이미지의 특징<br>\n",
        "- 같은 원핫 인코딩 벡터면 **같은 결과**를 출력한다\n",
        "- 해당 레이블을 나타내는 모든 훈련데이터의 어떠한 **평균적**인 이미지가 나온다<br>\n",
        "<br>↪ [ 우리가 원하는 이상적인 결과 ]<br>\n",
        "  - 각 레이블이 **서로 다른 이미지들**을 만들어낸다\n",
        "  - 그저 평균처럼 애매모호한 이미지가 아닌, **훈련 샘플**처럼 보이는 이미지를 만든다 \n",
        "<br>\n",
        "<br>\n",
        "➡ 위 두가지 목표를 달성하는 것은 사실적이고 그럴듯한 이미지 생성에 굉장히 중요.<br>\n",
        "간단한 백쿼리로는 부족, 다른 네트워크 구조가 필요!"
      ]
    },
    {
      "cell_type": "markdown",
      "source": [
        "## 적대적 훈련\n",
        "\n",
        "생성기$^{Generator}$와 판별기$^{Discriminator}$가 서로 적대적 관계로 경쟁을 하며, 서로 이기려고 하기 때문에, 결과적으로 둘다 성능이 향상되는 구조의 훈련\n",
        "\n",
        "➡ **생성적 적대 신경망$^{generative-adversarial-network}$, GAN**"
      ],
      "metadata": {
        "id": "iVMDh9LfRXLt"
      }
    },
    {
      "cell_type": "markdown",
      "source": [
        "## GAN 훈련\n",
        "\n",
        "\n",
        "제대로 훈련하기 위해서는 둘 모두 동시에 훈련시키면서 양쪽 모두 비슷한 수준으로 훈련이 이루어지도록 유도해야함!\n",
        "\n",
        "<Br>\n",
        "\n",
        "##### **[ GAN의 핵심 훈련 방법 ]**\n",
        "> 💡 1단계<br>\n",
        "&nbsp;&nbsp;&nbsp;&nbsp;: <b>판별기</b>에 실제 데이터를 보여준 후 분류.<br>\n",
        "&nbsp;&nbsp;&nbsp;&nbsp;: 결과는 **1.0**이 되어야 하며, <b>오차</b>가 발생하면 이를 **판별기를 업데이트**하는 데 사용.<br>\n",
        "<br>\n",
        "💡 2단계<br>\n",
        "&nbsp;&nbsp;&nbsp;&nbsp;: <b>판별기</b>에 <b>생성기</b>로부터 만들어진 가짜 데이터를 보여주고 분류.<br>\n",
        "&nbsp;&nbsp;&nbsp;&nbsp;: 결과는 **0.0**이어야 하며, **오차**가 발생하면 이를 **판별기를 업데이트**하는 데 사용.<br>\n",
        "&nbsp;&nbsp;&nbsp;&nbsp;&nbsp;&nbsp;&nbsp;&nbsp; ↪ ***이때, 생성기를 업데이트하지 않도록 조심!***<br>\n",
        "<br>\n",
        "💡 3단계<br>\n",
        "&nbsp;&nbsp;&nbsp;&nbsp;: <b>판별기</b>에 <b>생성기</b>가 생성한 이미지를 보여주고 분류.<br>\n",
        "&nbsp;&nbsp;&nbsp;&nbsp;: 결과가 **1.0**이 되도록 <b>생성기</b>를 훈련하며, **오차**가 발생하면 이를 **생성기를 업데이트**하는 데 사용. <br>\n",
        "&nbsp;&nbsp;&nbsp;&nbsp;&nbsp;&nbsp;&nbsp;&nbsp; ↪ ***이때, 판별기를 업데이트하지 않도록 조심!***<br>\n",
        "\n"
      ],
      "metadata": {
        "id": "6TyHv5PcRZmc"
      }
    },
    {
      "cell_type": "markdown",
      "source": [
        "## 훈련하기 어려운 GAN\n",
        "\n",
        "생성기와 판별기의 성능이 균형을 이루면서 향상되어야 GAN이 제대로 훈련된다!"
      ],
      "metadata": {
        "id": "omN2PUZYRcl7"
      }
    },
    {
      "cell_type": "markdown",
      "source": [
        "---\n",
        "\n",
        "## **Summary**\n",
        ">* **분류**는 데이터를 감소시키는 것에서 출발.\n",
        "<br>신경망을 통해 분류한다는 것은, 입력값을 줄여 클래스 당 하나의 출력값을 가지게끔 만드는 행위.<br>\n",
        "* **생성**은 데이터를 확장하여 얻어내는 것.\n",
        "<br>생성적 신경망은 작은 수의 시드$^{seed}$를 훨씬 큰 크기를 가지는 출력값으로 확장하는 역할을 함.\n",
        "<br><br>\n",
        "* **생성적 적대 신경망(GAN)**은 두개의 신경망 모델(**생성기, 판별기**)을 포함.<br>\n",
        "이들은 서로를 적대하도록 만들어져있음.<br>\n",
        "판별기는 훈련 데이터셋을 진짜라고 예측하게끔 훈련하며, 생성기에서 생성된 이미지를 가짜라고 예측하게끔 훈련함.<br>\n",
        "<br>\n",
        "생성기는 판별기를 속일 수 있는 데이터를 만드는 데에 집중함.\n",
        "* 일반적인 GAN 훈련과정\n",
        "  * 판별기를 실제 데이터로 훈련\n",
        "  * 판별기를 생성된 데이터로 훈련\n",
        "  * 판별기를 속일 수 있도록 생성기를 훈련\n",
        "\n",
        "---"
      ],
      "metadata": {
        "id": "e67skN2zORdn"
      }
    }
  ]
}